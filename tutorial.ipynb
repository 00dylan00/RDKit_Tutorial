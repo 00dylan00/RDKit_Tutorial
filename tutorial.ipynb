{
 "cells": [
  {
   "cell_type": "markdown",
   "metadata": {},
   "source": [
    "# RDKit [TUTORIAL](https://www.rdkit.org/docs/GettingStartedInPython.html)\n"
   ]
  },
  {
   "cell_type": "markdown",
   "metadata": {
    "jp-MarkdownHeadingCollapsed": true,
    "tags": []
   },
   "source": [
    "## What is this"
   ]
  },
  {
   "cell_type": "markdown",
   "metadata": {},
   "source": [
    "This document is intended to provide an overview of how one can use the RDKit functionality from Python. It’s not comprehensive and it’s not a manual.\n",
    "\n",
    "If you find mistakes, or have suggestions for improvements, please either fix them yourselves in the source document (the .rst file) or send them to the mailing list: rdkit-devel@lists.sourceforge.net In particular, if you find yourself spending time working out how to do something that doesn’t appear to be documented please contribute by writing it up for this document. Contributing to the documentation is a great service both to the RDKit community and to your future self."
   ]
  },
  {
   "cell_type": "markdown",
   "metadata": {
    "jp-MarkdownHeadingCollapsed": true,
    "tags": []
   },
   "source": [
    "## Reading and Writing Molecules"
   ]
  },
  {
   "cell_type": "markdown",
   "metadata": {
    "jp-MarkdownHeadingCollapsed": true,
    "tags": []
   },
   "source": [
    "### Reading single molecules"
   ]
  },
  {
   "cell_type": "code",
   "execution_count": 190,
   "metadata": {},
   "outputs": [],
   "source": [
    "from rdkit import Chem"
   ]
  },
  {
   "cell_type": "markdown",
   "metadata": {},
   "source": [
    "Individual molecules can be read in different ways: "
   ]
  },
  {
   "cell_type": "code",
   "execution_count": 191,
   "metadata": {},
   "outputs": [],
   "source": [
    "m = Chem.MolFromSmiles('Cc1ccccc1')\n",
    "m = Chem.MolFromMolFile('data/input.mol')\n",
    "stringWithMolData=open('data/input.mol','r').read()\n",
    "m = Chem.MolFromMolBlock(stringWithMolData)\n"
   ]
  },
  {
   "cell_type": "markdown",
   "metadata": {},
   "source": [
    "All these functions return a rdkit.Chem.rdchem.Mol object ! If it failed it will return `None`."
   ]
  },
  {
   "cell_type": "code",
   "execution_count": 192,
   "metadata": {},
   "outputs": [
    {
     "name": "stdout",
     "output_type": "stream",
     "text": [
      "<rdkit.Chem.rdchem.Mol object at 0x7f2954621710>\n",
      "None\n",
      "True\n"
     ]
    },
    {
     "name": "stderr",
     "output_type": "stream",
     "text": [
      "RDKit ERROR: [15:03:39] \n",
      "RDKit ERROR: \n",
      "RDKit ERROR: ****\n",
      "RDKit ERROR: Range Error\n",
      "RDKit ERROR: idx\n",
      "RDKit ERROR: Violation occurred on line 317 in file /home/conda/feedstock_root/build_artifacts/rdkit_1646569069773/work/Code/GraphMol/ROMol.cpp\n",
      "RDKit ERROR: Failed Expression: 9 < 7\n",
      "RDKit ERROR: ****\n",
      "RDKit ERROR: \n",
      "RDKit ERROR: [15:03:48] \n",
      "RDKit ERROR: \n",
      "RDKit ERROR: ****\n",
      "RDKit ERROR: Range Error\n",
      "RDKit ERROR: idx\n",
      "RDKit ERROR: Violation occurred on line 317 in file /home/conda/feedstock_root/build_artifacts/rdkit_1646569069773/work/Code/GraphMol/ROMol.cpp\n",
      "RDKit ERROR: Failed Expression: 9 < 7\n",
      "RDKit ERROR: ****\n",
      "RDKit ERROR: \n",
      "RDKit ERROR: [15:04:12] Explicit valence for atom # 6 N, 4, is greater than permitted\n",
      "[15:03:39] \n",
      "\n",
      "****\n",
      "Range Error\n",
      "idx\n",
      "Violation occurred on line 317 in file /home/conda/feedstock_root/build_artifacts/rdkit_1646569069773/work/Code/GraphMol/ROMol.cpp\n",
      "Failed Expression: 9 < 7\n",
      "****\n",
      "\n",
      "[15:03:48] \n",
      "\n",
      "****\n",
      "Range Error\n",
      "idx\n",
      "Violation occurred on line 317 in file /home/conda/feedstock_root/build_artifacts/rdkit_1646569069773/work/Code/GraphMol/ROMol.cpp\n",
      "Failed Expression: 9 < 7\n",
      "****\n",
      "\n",
      "[15:04:12] Explicit valence for atom # 6 N, 4, is greater than permitted\n"
     ]
    }
   ],
   "source": [
    "print(m)\n",
    "m = Chem.MolFromMolFile('data/invalid.mol')\n",
    "print(m)\n",
    "print(m is None)"
   ]
  },
  {
   "cell_type": "markdown",
   "metadata": {
    "jp-MarkdownHeadingCollapsed": true,
    "tags": []
   },
   "source": [
    "### Reading sets of molecules"
   ]
  },
  {
   "cell_type": "code",
   "execution_count": 193,
   "metadata": {},
   "outputs": [
    {
     "name": "stdout",
     "output_type": "stream",
     "text": [
      "20\n",
      "24\n",
      "24\n",
      "26\n"
     ]
    }
   ],
   "source": [
    "suppl = Chem.SDMolSupplier('data/5ht3ligs.sdf')\n",
    "for mol in suppl:\n",
    "    print(mol.GetNumAtoms() )"
   ]
  },
  {
   "cell_type": "markdown",
   "metadata": {},
   "source": [
    "We can create lists of molecules or retrieve the molecules from the object itself:"
   ]
  },
  {
   "cell_type": "code",
   "execution_count": 194,
   "metadata": {},
   "outputs": [
    {
     "name": "stdout",
     "output_type": "stream",
     "text": [
      "4\n",
      "20\n"
     ]
    }
   ],
   "source": [
    "mols = [x for x in suppl]\n",
    "print(len(mols))\n",
    "print(suppl[0].GetNumAtoms())"
   ]
  },
  {
   "cell_type": "markdown",
   "metadata": {},
   "source": [
    "Good practice is to test each molecule to see if it was correctly read before working with it:"
   ]
  },
  {
   "cell_type": "code",
   "execution_count": 195,
   "metadata": {},
   "outputs": [
    {
     "name": "stdout",
     "output_type": "stream",
     "text": [
      "20\n",
      "24\n",
      "24\n",
      "26\n"
     ]
    }
   ],
   "source": [
    "with Chem.SDMolSupplier('data/5ht3ligs.sdf') as suppl:\n",
    "    for mol in suppl:\n",
    "        if mol is None: continue\n",
    "        print(mol.GetNumAtoms())"
   ]
  },
  {
   "cell_type": "markdown",
   "metadata": {},
   "source": [
    "An alternative to read from file like objects is `Chem.ForwardSDMolSupplier`. A limitation is that it cannot be used to random-access objects:"
   ]
  },
  {
   "cell_type": "code",
   "execution_count": 196,
   "metadata": {},
   "outputs": [
    {
     "name": "stdout",
     "output_type": "stream",
     "text": [
      "20\n",
      "24\n",
      "24\n",
      "26\n"
     ]
    },
    {
     "data": {
      "text/plain": [
       "180"
      ]
     },
     "execution_count": 196,
     "metadata": {},
     "output_type": "execute_result"
    }
   ],
   "source": [
    "# Alternative\n",
    "inf = open('data/5ht3ligs.sdf','rb')\n",
    "with Chem.ForwardSDMolSupplier(inf) as fsuppl:\n",
    "   for mol in fsuppl:\n",
    "     if mol is None: continue\n",
    "     print(mol.GetNumAtoms())\n",
    "\n",
    "# Alternative\n",
    "import gzip\n",
    "inf = gzip.open('data/actives_5ht3.sdf.gz')\n",
    "with Chem.ForwardSDMolSupplier(inf) as gzsuppl:\n",
    "   ms = [x for x in gzsuppl if x is not None]\n",
    "len(ms)"
   ]
  },
  {
   "cell_type": "code",
   "execution_count": 197,
   "metadata": {},
   "outputs": [
    {
     "name": "stdout",
     "output_type": "stream",
     "text": [
      "Exception ! ! !\n"
     ]
    }
   ],
   "source": [
    "inf = open('data/5ht3ligs.sdf','rb')\n",
    "with Chem.ForwardSDMolSupplier(inf) as fsuppl:\n",
    "    try:\n",
    "        fsuppl[0]\n",
    "    except:\n",
    "        print(\"Exception ! ! !\")"
   ]
  },
  {
   "cell_type": "markdown",
   "metadata": {},
   "source": [
    "For reading Smiles or SDF files with large number of records concurrently, MultithreadedMolSuppliers can be used like this:"
   ]
  },
  {
   "cell_type": "code",
   "execution_count": 198,
   "metadata": {},
   "outputs": [
    {
     "name": "stdout",
     "output_type": "stream",
     "text": [
      "4\n"
     ]
    }
   ],
   "source": [
    "i = 0\n",
    "with Chem.MultithreadedSDMolSupplier('data/5ht3ligs.sdf') as sdSupl:\n",
    "    for mol in sdSupl:\n",
    "        if mol is not None:\n",
    "            i += 1\n",
    "\n",
    "print(i)"
   ]
  },
  {
   "cell_type": "markdown",
   "metadata": {},
   "source": [
    "By default a single reader thread is used to extract records from the file and a single writer thread is used to process them. Note that due to multithreading the output may not be in the expected order. Furthermore, the MultithreadedSmilesMolSupplier and the MultithreadedSDMolSupplier cannot be used as random-access objects."
   ]
  },
  {
   "cell_type": "markdown",
   "metadata": {},
   "source": [
    "### Writing molecules"
   ]
  },
  {
   "cell_type": "markdown",
   "metadata": {},
   "source": [
    "Single molecules can be converted to text using several functions present in the rdkit.Chem module.\n",
    "\n",
    "For example, for SMILES:"
   ]
  },
  {
   "cell_type": "code",
   "execution_count": 199,
   "metadata": {},
   "outputs": [
    {
     "name": "stdout",
     "output_type": "stream",
     "text": [
      "C[C@H](O)c1ccccc1\n",
      "CC(O)c1ccccc1\n"
     ]
    }
   ],
   "source": [
    "m = Chem.MolFromMolFile('data/chiral.mol')\n",
    "print(Chem.MolToSmiles(m))\n",
    "print(Chem.MolToSmiles(m,isomericSmiles=False))\n"
   ]
  },
  {
   "cell_type": "markdown",
   "metadata": {},
   "source": [
    "Note that the SMILES provided is canonical, so the output should be the same no matter how a particular molecule is input:"
   ]
  },
  {
   "cell_type": "code",
   "execution_count": 200,
   "metadata": {},
   "outputs": [
    {
     "name": "stdout",
     "output_type": "stream",
     "text": [
      "c1ccncc1\n",
      "c1ccncc1\n",
      "c1ccncc1\n"
     ]
    }
   ],
   "source": [
    "print( Chem.MolToSmiles(Chem.MolFromSmiles('C1=CC=CN=C1')) )\n",
    "print( Chem.MolToSmiles(Chem.MolFromSmiles('c1cccnc1')) )\n",
    "print( Chem.MolToSmiles(Chem.MolFromSmiles('n1ccccc1')) )\n"
   ]
  },
  {
   "cell_type": "markdown",
   "metadata": {},
   "source": [
    "If you’d like to have the Kekule form of the SMILES, first Kekulize the molecule, then use the `kekuleSmiles` option:"
   ]
  },
  {
   "cell_type": "code",
   "execution_count": 201,
   "metadata": {},
   "outputs": [
    {
     "name": "stdout",
     "output_type": "stream",
     "text": [
      "None\n",
      "C[C@H](O)C1=CC=CC=C1\n"
     ]
    }
   ],
   "source": [
    "print( Chem.Kekulize(m) )\n",
    "print( Chem.MolToSmiles(m,kekuleSmiles=True) )"
   ]
  },
  {
   "cell_type": "markdown",
   "metadata": {},
   "source": [
    "Note: as of this writing (Aug 2008), the smiles provided when one requests kekuleSmiles are not canonical. The limitation is not in the SMILES generation, but in the kekulization itself.\n",
    "\n",
    "MDL Mol blocks are also available:"
   ]
  },
  {
   "cell_type": "code",
   "execution_count": 202,
   "metadata": {},
   "outputs": [
    {
     "name": "stdout",
     "output_type": "stream",
     "text": [
      "\n",
      "     RDKit          2D\n",
      "\n",
      "  4  4  0  0  0  0  0  0  0  0999 V2000\n",
      "    1.0607    0.0000    0.0000 C   0  0  0  0  0  0  0  0  0  0  0  0\n",
      "   -0.0000   -1.0607    0.0000 C   0  0  0  0  0  0  0  0  0  0  0  0\n",
      "   -1.0607    0.0000    0.0000 C   0  0  0  0  0  0  0  0  0  0  0  0\n",
      "    0.0000    1.0607    0.0000 C   0  0  0  0  0  0  0  0  0  0  0  0\n",
      "  1  2  1  0\n",
      "  2  3  1  0\n",
      "  3  4  1  0\n",
      "  4  1  1  0\n",
      "M  END\n",
      "\n"
     ]
    }
   ],
   "source": [
    "m2 = Chem.MolFromSmiles('C1CCC1')\n",
    "print( Chem.MolToMolBlock(m2) ) "
   ]
  },
  {
   "cell_type": "markdown",
   "metadata": {},
   "source": [
    "To include names in the mol blocks, set the molecule's `_Name` property:"
   ]
  },
  {
   "cell_type": "code",
   "execution_count": 203,
   "metadata": {},
   "outputs": [
    {
     "name": "stdout",
     "output_type": "stream",
     "text": [
      "cyclobutane\n",
      "     RDKit          2D\n",
      "\n",
      "  4  4  0  0  0  0  0  0  0  0999 V2000\n",
      "    1.0607    0.0000    0.0000 C   0  0  0  0  0  0  0  0  0  0  0  0\n",
      "   -0.0000   -1.0607    0.0000 C   0  0  0  0  0  0  0  0  0  0  0  0\n",
      "   -1.0607    0.0000    0.0000 C   0  0  0  0  0  0  0  0  0  0  0  0\n",
      "    0.0000    1.0607    0.0000 C   0  0  0  0  0  0  0  0  0  0  0  0\n",
      "  1  2  1  0\n",
      "  2  3  1  0\n",
      "  3  4  1  0\n",
      "  4  1  1  0\n",
      "M  END\n",
      "\n"
     ]
    }
   ],
   "source": [
    "m2.SetProp(\"_Name\",\"cyclobutane\")\n",
    "print(Chem.MolToMolBlock(m2))    "
   ]
  },
  {
   "cell_type": "markdown",
   "metadata": {},
   "source": [
    "In order for atom or bond stereochemistry to be recognised correctly by most software, it’s essential that the mol block have atomic coordinates. It’s also convenient for many reasons, such as drawing the molecules. Generating a mol block for a molecule that does not have coordinates will, by default, automatically cause coordinates to be generated. These are not, however, stored with the molecule. Coordinates can be generated and stored with the molecule using functionality in the `rdkit.Chem.AllChem` module (see the Chem vs AllChem section for more information).\n",
    "\n",
    "You can either include 2D coordinates (i.e. a depiction):"
   ]
  },
  {
   "cell_type": "code",
   "execution_count": 204,
   "metadata": {},
   "outputs": [
    {
     "name": "stdout",
     "output_type": "stream",
     "text": [
      "cyclobutane\n",
      "     RDKit          2D\n",
      "\n",
      "  4  4  0  0  0  0  0  0  0  0999 V2000\n",
      "    1.0607   -0.0000    0.0000 C   0  0  0  0  0  0  0  0  0  0  0  0\n",
      "   -0.0000   -1.0607    0.0000 C   0  0  0  0  0  0  0  0  0  0  0  0\n",
      "   -1.0607    0.0000    0.0000 C   0  0  0  0  0  0  0  0  0  0  0  0\n",
      "    0.0000    1.0607    0.0000 C   0  0  0  0  0  0  0  0  0  0  0  0\n",
      "  1  2  1  0\n",
      "  2  3  1  0\n",
      "  3  4  1  0\n",
      "  4  1  1  0\n",
      "M  END\n",
      "\n"
     ]
    }
   ],
   "source": [
    "from rdkit.Chem import AllChem\n",
    "AllChem.Compute2DCoords(m2)\n",
    "print(Chem.MolToMolBlock(m2)) "
   ]
  },
  {
   "cell_type": "markdown",
   "metadata": {},
   "source": [
    "Or you can add 3D coordinates by embedding the molecule (this uses the ETKDG method, which is described in more detail below). Note that we add Hs to the molecule before generating the conformer. This is essential to get good structures:"
   ]
  },
  {
   "cell_type": "code",
   "execution_count": 205,
   "metadata": {},
   "outputs": [
    {
     "name": "stdout",
     "output_type": "stream",
     "text": [
      "cyclobutane\n",
      "     RDKit          3D\n",
      "\n",
      " 12 12  0  0  0  0  0  0  0  0999 V2000\n",
      "    1.0256    0.2491   -0.0964 C   0  0  0  0  0  0  0  0  0  0  0  0\n",
      "   -0.2041    0.9236    0.4320 C   0  0  0  0  0  0  0  0  0  0  0  0\n",
      "   -1.0435   -0.2466   -0.0266 C   0  0  0  0  0  0  0  0  0  0  0  0\n",
      "    0.2104   -0.9922   -0.3417 C   0  0  0  0  0  0  0  0  0  0  0  0\n",
      "    1.4182    0.7667   -0.9782 H   0  0  0  0  0  0  0  0  0  0  0  0\n",
      "    1.8181    0.1486    0.6820 H   0  0  0  0  0  0  0  0  0  0  0  0\n",
      "   -0.1697    1.0826    1.5236 H   0  0  0  0  0  0  0  0  0  0  0  0\n",
      "   -0.5336    1.8391   -0.1051 H   0  0  0  0  0  0  0  0  0  0  0  0\n",
      "   -1.6809   -0.0600   -0.8987 H   0  0  0  0  0  0  0  0  0  0  0  0\n",
      "   -1.6501   -0.6194    0.8220 H   0  0  0  0  0  0  0  0  0  0  0  0\n",
      "    0.4659   -1.7768    0.3858 H   0  0  0  0  0  0  0  0  0  0  0  0\n",
      "    0.3439   -1.3147   -1.3988 H   0  0  0  0  0  0  0  0  0  0  0  0\n",
      "  1  2  1  0\n",
      "  2  3  1  0\n",
      "  3  4  1  0\n",
      "  4  1  1  0\n",
      "  1  5  1  0\n",
      "  1  6  1  0\n",
      "  2  7  1  0\n",
      "  2  8  1  0\n",
      "  3  9  1  0\n",
      "  3 10  1  0\n",
      "  4 11  1  0\n",
      "  4 12  1  0\n",
      "M  END\n",
      "\n"
     ]
    }
   ],
   "source": [
    "m3 = Chem.AddHs(m2)\n",
    "AllChem.EmbedMolecule(m3,randomSeed=0xf00d)   # optional random seed for reproducibility)\n",
    "print(Chem.MolToMolBlock(m3))    "
   ]
  },
  {
   "cell_type": "markdown",
   "metadata": {},
   "source": [
    "If we don’t want the Hs in our later analysis, they are easy to remove:"
   ]
  },
  {
   "cell_type": "code",
   "execution_count": 206,
   "metadata": {},
   "outputs": [
    {
     "name": "stdout",
     "output_type": "stream",
     "text": [
      "cyclobutane\n",
      "     RDKit          3D\n",
      "\n",
      "  4  4  0  0  0  0  0  0  0  0999 V2000\n",
      "    1.0256    0.2491   -0.0964 C   0  0  0  0  0  0  0  0  0  0  0  0\n",
      "   -0.2041    0.9236    0.4320 C   0  0  0  0  0  0  0  0  0  0  0  0\n",
      "   -1.0435   -0.2466   -0.0266 C   0  0  0  0  0  0  0  0  0  0  0  0\n",
      "    0.2104   -0.9922   -0.3417 C   0  0  0  0  0  0  0  0  0  0  0  0\n",
      "  1  2  1  0\n",
      "  2  3  1  0\n",
      "  3  4  1  0\n",
      "  4  1  1  0\n",
      "M  END\n",
      "\n"
     ]
    }
   ],
   "source": [
    "m3 = Chem.RemoveHs(m3)\n",
    "print(Chem.MolToMolBlock(m3))  "
   ]
  },
  {
   "cell_type": "markdown",
   "metadata": {},
   "source": [
    "If you’d like to write the molecule to a file, use Python file objects:"
   ]
  },
  {
   "cell_type": "code",
   "execution_count": 207,
   "metadata": {},
   "outputs": [],
   "source": [
    "print(Chem.MolToMolBlock(m2),file=open('data/foo.mol','w+'))"
   ]
  },
  {
   "cell_type": "markdown",
   "metadata": {},
   "source": [
    "### Writing sets of molecules"
   ]
  },
  {
   "cell_type": "markdown",
   "metadata": {},
   "source": [
    "Multiple molecules can be written to a file using an rdkit.Chem.`rdmolfiles.SDWriter` object:"
   ]
  },
  {
   "cell_type": "code",
   "execution_count": 208,
   "metadata": {},
   "outputs": [],
   "source": [
    "with Chem.SDWriter('data/foo.sdf') as w:\n",
    "    for m in mols:\n",
    "        w.write(m)"
   ]
  },
  {
   "cell_type": "markdown",
   "metadata": {},
   "source": [
    "An SDWriter can also be initialized using a file-like object:"
   ]
  },
  {
   "cell_type": "code",
   "execution_count": 209,
   "metadata": {},
   "outputs": [
    {
     "name": "stdout",
     "output_type": "stream",
     "text": [
      "mol-295\n",
      "     RDKit          3D\n",
      "\n",
      " 20 22  0  0  1  0  0  0  0  0999 V2000\n",
      "    2.3200    0.0800   -0.1000 C   0  0  0  0  0  0  0  0  0  0  0  0\n",
      "    1.8400   -1.2200    0.1200 C   0  0  0  0  0  0  0  0  0  0  0  0\n",
      "    3.6800    0.0800    0.2600 C   0  0  0  0  0  0  0  0  0  0  0  0\n",
      "    1.7400    1.2800   -0.5600 C   0  0  0  0  0  0  0  0  0  0  0  0\n",
      "    2.9400   -1.9200    0.6000 C   0  0  0  0  0  0  0  0  0  0  0  0\n",
      "    0.5400   -1.7400   -0.0800 C   0  0  0  0  0  0  0  0  0  0  0  0\n",
      "    4.0200   -1.1400    0.6600 N   0  0  0  0  0  0  0  0  0  0  0  0\n",
      "    4.4600    1.2600    0.1600 C   0  0  0  0  0  0  0  0  0  0  0  0\n",
      "    2.5200    2.4600   -0.6600 C   0  0  0  0  0  0  0  0  0  0  0  0\n",
      "   -0.3800   -1.0400   -0.5000 O   0  0  0  0  0  0  0  0  0  0  0  0\n",
      "    0.3000   -2.9200    0.1800 O   0  0  0  0  0  0  0  0  0  0  0  0\n",
      "    3.8800    2.4400   -0.3000 C   0  0  0  0  0  0  0  0  0  0  0  0\n",
      "   -1.6800   -1.2400   -0.7800 C   0  0  0  0  0  0  0  0  0  0  0  0\n",
      "   -2.5800   -0.3200    0.1000 C   0  0  0  0  0  0  0  0  0  0  0  0\n",
      "   -4.0600   -0.6200   -0.0200 N   0  0  0  0  0  0  0  0  0  0  0  0\n",
      "   -2.2800    1.1800   -0.1400 C   0  0  0  0  0  0  0  0  0  0  0  0\n",
      "   -4.8800    0.2200    0.9200 C   0  0  0  0  0  0  0  0  0  0  0  0\n",
      "   -4.6200   -0.6400   -1.3800 C   0  0  0  0  0  0  0  0  0  0  0  0\n",
      "   -3.1400    2.0800    0.8000 C   0  0  0  0  0  0  0  0  0  0  0  0\n",
      "   -4.6400    1.7400    0.7200 C   0  0  0  0  0  0  0  0  0  0  0  0\n",
      "  1  2  1  0\n",
      "  1  3  1  0\n",
      "  1  4  2  0\n",
      "  2  5  2  0\n",
      "  2  6  1  0\n",
      "  3  7  1  0\n",
      "  3  8  2  0\n",
      "  4  9  1  0\n",
      "  6 10  1  0\n",
      "  6 11  2  0\n",
      "  8 12  1  0\n",
      " 10 13  1  0\n",
      " 13 14  1  0\n",
      " 14 15  1  0\n",
      " 14 16  1  0\n",
      " 15 17  1  0\n",
      " 15 18  1  0\n",
      " 16 19  1  0\n",
      " 17 20  1  0\n",
      "  5  7  1  0\n",
      "  9 12  2  0\n",
      " 19 20  1  0\n",
      "M  END\n",
      "$$$$\n",
      "mol-54\n",
      "     RDKit          3D\n",
      "\n",
      " 24 26  0  0  0  0  0  0  0  0999 V2000\n",
      "    0.8000   -1.0800   -0.5600 C   0  0  0  0  0  0  0  0  0  0  0  0\n",
      "    1.5200   -2.3000   -0.4200 C   0  0  0  0  0  0  0  0  0  0  0  0\n",
      "   -0.5400   -0.9600   -1.0000 C   0  0  0  0  0  0  0  0  0  0  0  0\n",
      "    1.5400    0.1000   -0.2200 C   0  0  0  0  0  0  0  0  0  0  0  0\n",
      "    2.8400   -2.3200    0.0200 C   0  0  0  0  0  0  0  0  0  0  0  0\n",
      "    0.9000   -3.4000   -0.7200 O   0  0  0  0  0  0  0  0  0  0  0  0\n",
      "   -1.4600    0.0000   -0.6400 N   0  0  0  0  0  0  0  0  0  0  0  0\n",
      "   -0.9800   -1.8000   -1.7800 O   0  0  0  0  0  0  0  0  0  0  0  0\n",
      "    2.8600    0.0800    0.2400 C   0  0  0  0  0  0  0  0  0  0  0  0\n",
      "    3.5400   -1.1600    0.3600 C   0  0  0  0  0  0  0  0  0  0  0  0\n",
      "    1.2400   -4.7000   -0.7200 C   0  0  0  0  0  0  0  0  0  0  0  0\n",
      "   -2.8200    0.1400   -1.0800 C   0  0  0  0  0  0  0  0  0  0  0  0\n",
      "    3.6000    1.5800    0.6000 Cl  0  0  0  0  0  0  0  0  0  0  0  0\n",
      "    4.8200   -1.2400    0.7600 N   0  0  0  0  0  0  0  0  0  0  0  0\n",
      "    0.8800   -5.3600    0.6400 C   0  0  0  0  0  0  0  0  0  0  0  0\n",
      "   -3.5400    1.4200   -0.5200 C   0  0  0  0  0  0  0  0  0  0  0  0\n",
      "   -3.7200   -1.1200   -0.7000 C   0  0  0  0  0  0  0  0  0  0  0  0\n",
      "    1.6400   -4.7200    1.7000 O   0  0  0  0  0  0  0  0  0  0  0  0\n",
      "   -3.8200    1.2600    1.0000 C   0  0  0  0  0  0  0  0  0  0  0  0\n",
      "   -4.9400    1.5400   -1.2400 C   0  0  0  0  0  0  0  0  0  0  0  0\n",
      "   -5.0000   -0.7200   -0.0600 N   0  0  0  0  0  0  0  0  0  0  0  0\n",
      "    1.3400   -5.3200    2.9800 C   0  0  0  0  0  0  0  0  0  0  0  0\n",
      "   -4.7200   -0.0200    1.2400 C   0  0  0  0  0  0  0  0  0  0  0  0\n",
      "   -5.7600    0.2400   -0.9800 C   0  0  0  0  0  0  0  0  0  0  0  0\n",
      "  1  2  2  0\n",
      "  1  3  1  0\n",
      "  1  4  1  0\n",
      "  2  5  1  0\n",
      "  2  6  1  0\n",
      "  3  7  1  0\n",
      "  3  8  2  0\n",
      "  4  9  2  0\n",
      "  5 10  2  0\n",
      "  6 11  1  0\n",
      "  7 12  1  0\n",
      "  9 13  1  0\n",
      " 10 14  1  0\n",
      " 11 15  1  0\n",
      " 12 16  1  0\n",
      " 12 17  1  0\n",
      " 15 18  1  0\n",
      " 16 19  1  0\n",
      " 16 20  1  0\n",
      " 17 21  1  0\n",
      " 18 22  1  0\n",
      " 19 23  1  0\n",
      " 20 24  1  0\n",
      "  9 10  1  0\n",
      " 21 23  1  0\n",
      " 21 24  1  0\n",
      "M  END\n",
      "$$$$\n",
      "mol-15\n",
      "     RDKit          3D\n",
      "\n",
      " 24 27  0  0  0  0  0  0  0  0999 V2000\n",
      "    1.5000   -0.6400   -0.4600 C   0  0  0  0  0  0  0  0  0  0  0  0\n",
      "    2.3600   -1.5600    0.1800 C   0  0  0  0  0  0  0  0  0  0  0  0\n",
      "    2.1600    0.5800   -0.4600 C   0  0  0  0  0  0  0  0  0  0  0  0\n",
      "    0.2400   -1.0000   -0.9400 C   0  0  0  0  0  0  0  0  0  0  0  0\n",
      "    3.4800   -0.9200    0.6000 N   0  0  0  0  0  0  0  0  0  0  0  0\n",
      "    2.0000   -2.9800    0.3200 C   0  0  0  0  0  0  0  0  0  0  0  0\n",
      "    3.4000    0.3600    0.2000 C   0  0  0  0  0  0  0  0  0  0  0  0\n",
      "    1.8400    1.8600   -0.9600 C   0  0  0  0  0  0  0  0  0  0  0  0\n",
      "   -0.3000   -2.3200   -0.7200 C   0  0  0  0  0  0  0  0  0  0  0  0\n",
      "   -0.4400   -0.1800   -1.5600 O   0  0  0  0  0  0  0  0  0  0  0  0\n",
      "    4.5800   -1.5200    1.3400 C   0  0  0  0  0  0  0  0  0  0  0  0\n",
      "    0.8400   -3.4000   -0.6400 C   0  0  0  0  0  0  0  0  0  0  0  0\n",
      "    4.3000    1.4400    0.3600 C   0  0  0  0  0  0  0  0  0  0  0  0\n",
      "    2.7600    2.9200   -0.8000 C   0  0  0  0  0  0  0  0  0  0  0  0\n",
      "   -1.2400   -2.3600    0.5400 C   0  0  0  0  0  0  0  0  0  0  0  0\n",
      "    5.7800   -1.4400    0.6400 C   0  0  0  0  0  0  0  0  0  0  0  0\n",
      "    3.9800    2.7200   -0.1600 C   0  0  0  0  0  0  0  0  0  0  0  0\n",
      "   -2.4200   -1.4600    0.4600 C   0  0  0  0  0  0  0  0  0  0  0  0\n",
      "    6.8000   -1.3800    0.0400 C   0  0  0  0  0  0  0  0  0  0  0  0\n",
      "   -3.4400   -1.4800   -0.4800 C   0  0  0  0  0  0  0  0  0  0  0  0\n",
      "   -2.6600   -0.5000    1.3400 N   0  0  0  0  0  0  0  0  0  0  0  0\n",
      "   -4.2800   -0.4600   -0.1400 N   0  0  0  0  0  0  0  0  0  0  0  0\n",
      "   -3.6000   -2.3600   -1.6200 C   0  0  0  0  0  0  0  0  0  0  0  0\n",
      "   -3.8000    0.1000    0.9800 C   0  0  0  0  0  0  0  0  0  0  0  0\n",
      "  1  2  2  0\n",
      "  1  3  1  0\n",
      "  1  4  1  0\n",
      "  2  5  1  0\n",
      "  2  6  1  0\n",
      "  3  7  2  0\n",
      "  3  8  1  0\n",
      "  4  9  1  0\n",
      "  4 10  2  0\n",
      "  5 11  1  0\n",
      "  6 12  1  0\n",
      "  7 13  1  0\n",
      "  8 14  2  0\n",
      "  9 15  1  0\n",
      " 11 16  1  0\n",
      " 13 17  2  0\n",
      " 15 18  1  0\n",
      " 16 19  3  0\n",
      " 18 20  2  0\n",
      " 18 21  1  0\n",
      " 20 22  1  0\n",
      " 20 23  1  0\n",
      " 21 24  2  0\n",
      "  5  7  1  0\n",
      "  9 12  1  0\n",
      " 14 17  1  0\n",
      " 22 24  1  0\n",
      "M  END\n",
      "$$$$\n",
      "mol-732\n",
      "     RDKit          3D\n",
      "\n",
      " 26 29  0  0  0  0  0  0  0  0999 V2000\n",
      "    3.2400    0.6400    0.0200 C   0  0  0  0  0  0  0  0  0  0  0  0\n",
      "    2.0200    0.0800   -0.2400 C   0  0  0  0  0  0  0  0  0  0  0  0\n",
      "    4.1400   -0.3200    0.1600 N   0  0  0  0  0  0  0  0  0  0  0  0\n",
      "    3.1800    2.0400    0.0800 C   0  0  0  0  0  0  0  0  0  0  0  0\n",
      "    2.2000   -1.2800   -0.2800 C   0  0  0  0  0  0  0  0  0  0  0  0\n",
      "    0.7000    1.1800   -0.4200 S   0  0  0  0  0  0  0  0  0  0  0  0\n",
      "    3.5200   -1.5200   -0.0400 C   0  0  0  0  0  0  0  0  0  0  0  0\n",
      "    5.4600   -0.5200    0.4000 C   0  0  0  0  0  0  0  0  0  0  0  0\n",
      "    1.8600    2.4600   -0.1400 C   0  0  0  0  0  0  0  0  0  0  0  0\n",
      "    4.3200    2.9200    0.3400 C   0  0  0  0  0  0  0  0  0  0  0  0\n",
      "    1.2000   -2.1400   -0.5200 N   0  0  0  0  0  0  0  0  0  0  0  0\n",
      "    4.4600   -2.5200    0.1000 C   0  0  0  0  0  0  0  0  0  0  0  0\n",
      "    5.6600   -1.9000    0.3400 C   0  0  0  0  0  0  0  0  0  0  0  0\n",
      "    0.0400   -1.8800   -0.7200 O   0  0  0  0  0  0  0  0  0  0  0  0\n",
      "   -0.9200   -2.7800   -0.9400 C   0  0  0  0  0  0  0  0  0  0  0  0\n",
      "   -1.0400   -3.7000    0.2200 C   0  0  0  0  0  0  0  0  0  0  0  0\n",
      "   -2.2800   -2.0600   -1.2400 C   0  0  0  0  0  0  0  0  0  0  0  0\n",
      "   -0.7200   -3.2400    1.5400 C   0  0  0  0  0  0  0  0  0  0  0  0\n",
      "   -1.4600   -5.0400    0.0800 C   0  0  0  0  0  0  0  0  0  0  0  0\n",
      "   -2.7400   -1.1000   -0.1200 C   0  0  0  0  0  0  0  0  0  0  0  0\n",
      "   -0.8200   -4.1000    2.6400 C   0  0  0  0  0  0  0  0  0  0  0  0\n",
      "   -1.5600   -5.9000    1.2000 C   0  0  0  0  0  0  0  0  0  0  0  0\n",
      "   -3.9400   -0.3000   -0.5200 N   0  0  0  0  0  0  0  0  0  0  0  0\n",
      "   -1.2200   -5.4200    2.5000 C   0  0  0  0  0  0  0  0  0  0  0  0\n",
      "   -5.1200   -1.1600   -0.7800 C   0  0  0  0  0  0  0  0  0  0  0  0\n",
      "   -3.7800    0.4800   -1.7400 C   0  0  0  0  0  0  0  0  0  0  0  0\n",
      "  2  6  1  0\n",
      "  3  7  1  0\n",
      "  3  8  1  0\n",
      "  4  9  2  0\n",
      "  4 10  1  0\n",
      "  5 11  2  0\n",
      "  7 12  2  0\n",
      "  8 13  2  0\n",
      " 11 14  1  0\n",
      " 14 15  1  0\n",
      " 15 16  1  0\n",
      " 15 17  1  0\n",
      " 16 18  2  0\n",
      " 16 19  1  0\n",
      " 17 20  1  0\n",
      " 18 21  1  0\n",
      " 19 22  2  0\n",
      " 20 23  1  0\n",
      " 21 24  2  0\n",
      " 23 25  1  0\n",
      " 23 26  1  0\n",
      "  5  7  1  0\n",
      "  6  9  1  0\n",
      " 12 13  1  0\n",
      " 22 24  1  0\n",
      "  1  2  2  0\n",
      "  1  3  1  0\n",
      "  1  4  1  0\n",
      "  2  5  1  0\n",
      "M  END\n",
      "$$$$\n",
      "\n"
     ]
    }
   ],
   "source": [
    "from rdkit.six import StringIO\n",
    "sio = StringIO()\n",
    "with Chem.SDWriter(sio) as w:\n",
    "    for m in mols:\n",
    "        w.write(m)\n",
    "print(sio.getvalue())"
   ]
  },
  {
   "cell_type": "markdown",
   "metadata": {},
   "source": [
    "Other available Writers include the\n",
    "* `rdkit.Chem.rdmolfiles.SmilesWriter` and the \n",
    "* `rdkit.Chem.rdmolfiles.TDTWriter`."
   ]
  },
  {
   "cell_type": "markdown",
   "metadata": {
    "jp-MarkdownHeadingCollapsed": true,
    "tags": []
   },
   "source": [
    "## Working with Molecules"
   ]
  },
  {
   "cell_type": "markdown",
   "metadata": {},
   "source": [
    "### Looping over Atoms and Bonds"
   ]
  },
  {
   "cell_type": "markdown",
   "metadata": {},
   "source": [
    "Once you have a molecule, it’s easy to loop over its atoms and bonds:"
   ]
  },
  {
   "cell_type": "code",
   "execution_count": 210,
   "metadata": {},
   "outputs": [
    {
     "name": "stdout",
     "output_type": "stream",
     "text": [
      "6\n",
      "8\n",
      "6\n",
      "SINGLE\n"
     ]
    }
   ],
   "source": [
    "m = Chem.MolFromSmiles('C1OC1')\n",
    "for atom in m.GetAtoms():\n",
    "    print(atom.GetAtomicNum())\n",
    "\n",
    "print(m.GetBonds()[0].GetBondType())"
   ]
  },
  {
   "cell_type": "markdown",
   "metadata": {},
   "source": [
    "You can also request individual bonds or atoms:"
   ]
  },
  {
   "cell_type": "code",
   "execution_count": 211,
   "metadata": {},
   "outputs": [
    {
     "name": "stdout",
     "output_type": "stream",
     "text": [
      "C\n",
      "2\n",
      "0\n",
      "1\n",
      "SINGLE\n"
     ]
    }
   ],
   "source": [
    "print( m.GetAtomWithIdx(0).GetSymbol() )\n",
    "print( m.GetAtomWithIdx(0).GetExplicitValence() )\n",
    "print( m.GetBondWithIdx(0).GetBeginAtomIdx() )\n",
    "print( m.GetBondWithIdx(0).GetEndAtomIdx() )\n",
    "print( m.GetBondBetweenAtoms(0,1).GetBondType() )"
   ]
  },
  {
   "cell_type": "markdown",
   "metadata": {},
   "source": [
    "Atoms keep track of their neighbors:"
   ]
  },
  {
   "cell_type": "code",
   "execution_count": 212,
   "metadata": {},
   "outputs": [
    {
     "name": "stdout",
     "output_type": "stream",
     "text": [
      "2\n"
     ]
    }
   ],
   "source": [
    "atom = m.GetAtomWithIdx(0)\n",
    "[x.GetAtomicNum() for x in atom.GetNeighbors()]\n",
    "print( len(atom.GetNeighbors()[-1].GetBonds()) )"
   ]
  },
  {
   "cell_type": "markdown",
   "metadata": {},
   "source": [
    "### Ring Information"
   ]
  },
  {
   "cell_type": "markdown",
   "metadata": {},
   "source": [
    "Atoms and bonds both carry information about the molecule’s rings:"
   ]
  },
  {
   "cell_type": "code",
   "execution_count": 213,
   "metadata": {},
   "outputs": [
    {
     "name": "stdout",
     "output_type": "stream",
     "text": [
      "False\n",
      "True\n",
      "True\n",
      "True\n",
      "False\n",
      "True\n",
      "True\n"
     ]
    }
   ],
   "source": [
    "m = Chem.MolFromSmiles('OC1C2C1CC2')\n",
    "print( m.GetAtomWithIdx(0).IsInRing() )\n",
    "print( m.GetAtomWithIdx(1).IsInRing() )\n",
    "print( m.GetAtomWithIdx(2).IsInRingSize(3) )\n",
    "print( m.GetAtomWithIdx(2).IsInRingSize(4) )\n",
    "print( m.GetAtomWithIdx(2).IsInRingSize(5) )\n",
    "print( m.GetBondWithIdx(1).IsInRingSize(3) ) \n",
    "print( m.GetBondWithIdx(1).IsInRing() )"
   ]
  },
  {
   "cell_type": "markdown",
   "metadata": {},
   "source": [
    "But note that the information is only about the smallest rings:"
   ]
  },
  {
   "cell_type": "code",
   "execution_count": 214,
   "metadata": {},
   "outputs": [
    {
     "data": {
      "text/plain": [
       "False"
      ]
     },
     "execution_count": 214,
     "metadata": {},
     "output_type": "execute_result"
    }
   ],
   "source": [
    "m.GetAtomWithIdx(1).IsInRingSize(5)"
   ]
  },
  {
   "cell_type": "markdown",
   "metadata": {},
   "source": [
    "More detail about the smallest set of smallest rings (SSSR) is available:"
   ]
  },
  {
   "cell_type": "code",
   "execution_count": 215,
   "metadata": {},
   "outputs": [
    {
     "name": "stdout",
     "output_type": "stream",
     "text": [
      "2\n",
      "[1, 2, 3]\n",
      "[4, 5, 2, 3]\n"
     ]
    }
   ],
   "source": [
    "ssr = Chem.GetSymmSSSR(m)\n",
    "print(len(ssr))\n",
    "print(list(ssr[0]))\n",
    "print(list(ssr[1]))"
   ]
  },
  {
   "cell_type": "markdown",
   "metadata": {},
   "source": [
    "As the name indicates, this is a symmetrized SSSR; if you are interested in the number of \"true\" SSSR, use the GetSSSR function."
   ]
  },
  {
   "cell_type": "code",
   "execution_count": 216,
   "metadata": {},
   "outputs": [
    {
     "data": {
      "text/plain": [
       "2"
      ]
     },
     "execution_count": 216,
     "metadata": {},
     "output_type": "execute_result"
    }
   ],
   "source": [
    "Chem.GetSSSR(m)"
   ]
  },
  {
   "cell_type": "markdown",
   "metadata": {},
   "source": [
    "The distinction between symmetrized and non-symmetrized SSSR is discussed in more detail below in the section The SSSR Problem.\n",
    "\n",
    "For more efficient queries about a molecule’s ring systems (avoiding repeated calls to Mol.GetAtomWithIdx), use the `rdkit.Chem.rdchem.RingInfo` class:"
   ]
  },
  {
   "cell_type": "code",
   "execution_count": 217,
   "metadata": {},
   "outputs": [
    {
     "name": "stdout",
     "output_type": "stream",
     "text": [
      "0\n",
      "1\n",
      "2\n",
      "True\n",
      "True\n"
     ]
    }
   ],
   "source": [
    "m = Chem.MolFromSmiles('OC1C2C1CC2')\n",
    "ri = m.GetRingInfo()\n",
    "print( ri.NumAtomRings(0) )\n",
    "print( ri.NumAtomRings(1) )\n",
    "print( ri.NumAtomRings(2) )\n",
    "print( ri.IsAtomInRingOfSize(1,3) )\n",
    "print( ri.IsBondInRingOfSize(1,3) )"
   ]
  },
  {
   "cell_type": "markdown",
   "metadata": {
    "jp-MarkdownHeadingCollapsed": true,
    "tags": []
   },
   "source": [
    "### Modifying molecules"
   ]
  },
  {
   "cell_type": "markdown",
   "metadata": {},
   "source": [
    "Normally molecules are stored in the RDKit with the hydrogen atoms implicit (e.g. not explicitly present in the molecular graph. When it is useful to have the hydrogens explicitly present, for example when generating or optimizing the 3D geometry, the :py:func:rdkit.Chem.rdmolops.AddHs function can be used:"
   ]
  },
  {
   "cell_type": "code",
   "execution_count": 218,
   "metadata": {},
   "outputs": [
    {
     "name": "stdout",
     "output_type": "stream",
     "text": [
      "3\n",
      "9\n"
     ]
    }
   ],
   "source": [
    "m=Chem.MolFromSmiles('CCO')\n",
    "print( m.GetNumAtoms() )\n",
    "m2 = Chem.AddHs(m)\n",
    "print( m2.GetNumAtoms() )"
   ]
  },
  {
   "cell_type": "markdown",
   "metadata": {},
   "source": [
    "The Hs can be removed again using the `rdkit.Chem.rdmolops.RemoveHs()` function:"
   ]
  },
  {
   "cell_type": "code",
   "execution_count": 219,
   "metadata": {},
   "outputs": [
    {
     "name": "stdout",
     "output_type": "stream",
     "text": [
      "3\n"
     ]
    }
   ],
   "source": [
    "m3 = Chem.RemoveHs(m2)\n",
    "print( m3.GetNumAtoms() )"
   ]
  },
  {
   "cell_type": "markdown",
   "metadata": {},
   "source": [
    "RDKit molecules are usually stored with the bonds in aromatic rings having aromatic bond types. This can be changed with the `rdkit.Chem.rdmolops.Kekulize()` function:"
   ]
  },
  {
   "cell_type": "code",
   "execution_count": 220,
   "metadata": {},
   "outputs": [
    {
     "name": "stdout",
     "output_type": "stream",
     "text": [
      "AROMATIC\n",
      "None\n",
      "DOUBLE\n",
      "SINGLE\n"
     ]
    }
   ],
   "source": [
    "m = Chem.MolFromSmiles('c1ccccc1')\n",
    "print( m.GetBondWithIdx(0).GetBondType() )\n",
    "print( Chem.rdmolops.Kekulize(m) )\n",
    "print( m.GetBondWithIdx(0).GetBondType() )\n",
    "print( m.GetBondWithIdx(1).GetBondType() )"
   ]
  },
  {
   "cell_type": "markdown",
   "metadata": {},
   "source": [
    "By default, the bonds are still marked as being aromatic:"
   ]
  },
  {
   "cell_type": "code",
   "execution_count": 221,
   "metadata": {},
   "outputs": [
    {
     "name": "stdout",
     "output_type": "stream",
     "text": [
      "True\n"
     ]
    }
   ],
   "source": [
    "print( m.GetBondWithIdx(1).GetIsAromatic() )"
   ]
  },
  {
   "cell_type": "markdown",
   "metadata": {},
   "source": [
    "because the flags in the original molecule are not cleared (clearAromaticFlags defaults to False). You can explicitly force or decline a clearing of the flags:"
   ]
  },
  {
   "cell_type": "code",
   "execution_count": 222,
   "metadata": {},
   "outputs": [
    {
     "name": "stdout",
     "output_type": "stream",
     "text": [
      "True\n",
      "False\n"
     ]
    }
   ],
   "source": [
    "m = Chem.MolFromSmiles('c1ccccc1')\n",
    "print( m.GetBondWithIdx(0).GetIsAromatic() )\n",
    "\n",
    "m1 = Chem.MolFromSmiles('c1ccccc1')\n",
    "Chem.rdmolops.Kekulize(m1, clearAromaticFlags=True)\n",
    "print( m1.GetBondWithIdx(0).GetIsAromatic() )"
   ]
  },
  {
   "cell_type": "markdown",
   "metadata": {},
   "source": [
    "Bonds can be restored to the aromatic bond type using the `rdkit.Chem.rdmolops.SanitizeMol()` function:"
   ]
  },
  {
   "cell_type": "code",
   "execution_count": 223,
   "metadata": {},
   "outputs": [
    {
     "name": "stdout",
     "output_type": "stream",
     "text": [
      "SANITIZE_NONE\n",
      "AROMATIC\n"
     ]
    }
   ],
   "source": [
    "print( Chem.SanitizeMol(m) )\n",
    "print( m.GetBondWithIdx(0).GetBondType() )"
   ]
  },
  {
   "cell_type": "markdown",
   "metadata": {},
   "source": [
    "The value returned by SanitizeMol() indicates that no problems were encountered."
   ]
  },
  {
   "cell_type": "markdown",
   "metadata": {},
   "source": [
    "### Working with 2D molecules: Generating Depictions"
   ]
  },
  {
   "cell_type": "markdown",
   "metadata": {},
   "source": [
    "The RDKit has a library for generating depictions (sets of 2D) coordinates for molecules. This library, which is part of the AllChem module, is accessed using the `rdkit.Chem.rdDepictor.Compute2DCoords()` function:"
   ]
  },
  {
   "cell_type": "code",
   "execution_count": 224,
   "metadata": {},
   "outputs": [
    {
     "data": {
      "text/plain": [
       "0"
      ]
     },
     "execution_count": 224,
     "metadata": {},
     "output_type": "execute_result"
    }
   ],
   "source": [
    "m = Chem.MolFromSmiles('c1nccc2n1ccc2')\n",
    "AllChem.Compute2DCoords(m)"
   ]
  },
  {
   "cell_type": "markdown",
   "metadata": {},
   "source": [
    "The 2D conformer is constructed in a canonical orientation and is built to minimize intramolecular clashes, i.e. to maximize the clarity of the drawing.\n",
    "\n",
    "If you have a set of molecules that share a common template and you’d like to align them to that template, you can do so as follows:"
   ]
  },
  {
   "cell_type": "code",
   "execution_count": 225,
   "metadata": {},
   "outputs": [
    {
     "name": "stdout",
     "output_type": "stream",
     "text": [
      "0\n"
     ]
    },
    {
     "data": {
      "image/png": "[encoded data removed]",
      "text/plain": [
       "<IPython.core.display.Image object>"
      ]
     },
     "execution_count": 225,
     "metadata": {},
     "output_type": "execute_result"
    }
   ],
   "source": [
    "template = Chem.MolFromSmiles('c1nccc2n1ccc2')\n",
    "print( AllChem.Compute2DCoords(template) )\n",
    "\n",
    "ms = [Chem.MolFromSmiles(smi) for smi in ('OCCc1ccn2cnccc12','C1CC1Oc1cc2ccncn2c1','CNC(=O)c1nccc2cccn12')]\n",
    "\n",
    "from rdkit.Chem import Draw\n",
    "Draw.MolsToGridImage(ms)"
   ]
  },
  {
   "cell_type": "code",
   "execution_count": 226,
   "metadata": {},
   "outputs": [
    {
     "data": {
      "image/png": "[encoded data removed]",
      "text/plain": [
       "<IPython.core.display.Image object>"
      ]
     },
     "execution_count": 226,
     "metadata": {},
     "output_type": "execute_result"
    }
   ],
   "source": [
    "for m in ms:\n",
    "    #_ = AllChem.GenerateDepictionMatching2DStructure(m,template)\n",
    "    AllChem.GenerateDepictionMatching2DStructure(m,template)\n",
    "\n",
    "Draw.MolsToGridImage(ms)"
   ]
  },
  {
   "cell_type": "markdown",
   "metadata": {},
   "source": [
    "Another option for Compute2DCoords allows you to generate 2D depictions for molecules that closely mimic 3D conformers. This is available using the function `rdkit.Chem.AllChem.GenerateDepictionMatching3DStructure()`.\n",
    "\n",
    "More fine-grained control can be obtained using the core function `rdkit.Chem.rdDepictor.Compute2DCoordsMimicDistmat()`, but that is beyond the scope of this document. See the implementation of GenerateDepictionMatching3DStructure in AllChem.py for an example of how it is used."
   ]
  },
  {
   "cell_type": "markdown",
   "metadata": {
    "tags": []
   },
   "source": [
    "### Working with 3D Molecules"
   ]
  },
  {
   "cell_type": "markdown",
   "metadata": {},
   "source": [
    "The RDKit can generate conformers for molecules using two different methods. The original method used distance geometry. The algorithm followed is:\n",
    "\n",
    "1. The molecule’s distance bounds matrix is calculated based on the connection table and a set of rules.\n",
    "\n",
    "2. The bounds matrix is smoothed using a triangle-bounds smoothing algorithm.\n",
    "\n",
    "3. A random distance matrix that satisfies the bounds matrix is generated.\n",
    "\n",
    "4. This distance matrix is embedded in 3D dimensions (producing coordinates for each atom).\n",
    "\n",
    "5. The resulting coordinates are cleaned up somewhat using a crude force field and the bounds matrix.\n",
    "\n",
    "Note that the conformers that result from this procedure tend to be fairly ugly. They should be cleaned up using a force field. This can be done within the RDKit using its implementation of the Universal Force Field (UFF).\n",
    "\n",
    "More recently, there is an implementation of the ETKDG method of Riniker and Landrum which uses torsion angle preferences from the Cambridge Structural Database (CSD) to correct the conformers after distance geometry has been used to generate them. With this method, there should be no need to use a minimisation step to clean up the structures.\n",
    "\n",
    "More detailed information about the conformer generator and the parameters controlling it can be found in the “RDKit Book”.\n",
    "\n",
    "Since the 2018.09 release of the RDKit, ETKDG is the default conformer generation method.\n",
    "\n",
    "The full process of embedding a molecule is easier than all the above verbiage makes it sound:"
   ]
  },
  {
   "cell_type": "code",
   "execution_count": 227,
   "metadata": {},
   "outputs": [
    {
     "data": {
      "text/plain": [
       "0"
      ]
     },
     "execution_count": 227,
     "metadata": {},
     "output_type": "execute_result"
    }
   ],
   "source": [
    "m2=Chem.AddHs(m)\n",
    "AllChem.EmbedMolecule(m2)"
   ]
  },
  {
   "cell_type": "markdown",
   "metadata": {},
   "source": [
    "The RDKit also has an implementation of the MMFF94 force field available. Please note that the MMFF atom typing code uses its own aromaticity model, so the aromaticity flags of the molecule will be modified after calling MMFF-related methods.\n",
    "\n",
    "Here’s an example of using MMFF94 to minimize an RDKit-generated conformer: .. doctest:"
   ]
  },
  {
   "cell_type": "code",
   "execution_count": 228,
   "metadata": {},
   "outputs": [
    {
     "name": "stdout",
     "output_type": "stream",
     "text": [
      "0\n",
      "0\n"
     ]
    }
   ],
   "source": [
    "m = Chem.MolFromSmiles('C1CCC1OC')\n",
    "m2=Chem.AddHs(m)\n",
    "print( AllChem.EmbedMolecule(m2) )\n",
    "print( AllChem.MMFFOptimizeMolecule(m2) )"
   ]
  },
  {
   "cell_type": "markdown",
   "metadata": {},
   "source": [
    "Note the calls to Chem.AddHs() in the examples above. By default RDKit molecules do not have H atoms explicitly present in the graph, but they are important for getting realistic geometries, so they generally should be added. They can always be removed afterwards if necessary with a call to Chem.RemoveHs().\n",
    "\n",
    "With the RDKit, multiple conformers can also be generated using the different embedding methods. In both cases this is simply a matter of running the distance geometry calculation multiple times from different random start points. The option numConfs allows the user to set the number of conformers that should be generated. Otherwise the procedures are as before. The conformers so generated can be aligned to each other and the RMS values calculated."
   ]
  },
  {
   "cell_type": "code",
   "execution_count": 229,
   "metadata": {},
   "outputs": [
    {
     "name": "stdout",
     "output_type": "stream",
     "text": [
      "10\n",
      "9\n"
     ]
    }
   ],
   "source": [
    "m = Chem.MolFromSmiles('C1CCC1OC')\n",
    "m2=Chem.AddHs(m)\n",
    "# run ETKDG 10 times\n",
    "cids = AllChem.EmbedMultipleConfs(m2, numConfs=10)\n",
    "print(len(cids))\n",
    "\n",
    "rmslist = []\n",
    "AllChem.AlignMolConformers(m2, RMSlist=rmslist)\n",
    "print(len(rmslist))"
   ]
  },
  {
   "cell_type": "markdown",
   "metadata": {},
   "source": [
    "rmslist contains the RMS values between the first conformer and all others. The RMS between two specific conformers (e.g. 1 and 9) can also be calculated. The flag prealigned lets the user specify if the conformers are already aligned (by default, the function aligns them)."
   ]
  },
  {
   "cell_type": "code",
   "execution_count": 230,
   "metadata": {},
   "outputs": [],
   "source": [
    "rms = AllChem.GetConformerRMS(m2, 1, 9, prealigned=True)"
   ]
  },
  {
   "cell_type": "markdown",
   "metadata": {},
   "source": [
    "If you are interested in running MMFF94 on a molecule’s conformers (note that this is often not necessary when using ETKDG), there’s a convenience function available:"
   ]
  },
  {
   "cell_type": "code",
   "execution_count": 231,
   "metadata": {},
   "outputs": [],
   "source": [
    "res = AllChem.MMFFOptimizeMoleculeConfs(m2)"
   ]
  },
  {
   "cell_type": "markdown",
   "metadata": {},
   "source": [
    "The result is a list a containing 2-tuples: (not_converged, energy) for each conformer. If not_converged is 0, the minimization for that conformer converged.\n",
    "\n",
    "By default AllChem.EmbedMultipleConfs and AllChem.MMFFOptimizeMoleculeConfs() run single threaded, but you can cause them to use multiple threads simultaneously for these embarassingly parallel tasks via the numThreads argument:"
   ]
  },
  {
   "cell_type": "code",
   "execution_count": 232,
   "metadata": {},
   "outputs": [],
   "source": [
    "cids = AllChem.EmbedMultipleConfs(m2, numThreads=0)\n",
    "res = AllChem.MMFFOptimizeMoleculeConfs(m2, numThreads=0)"
   ]
  },
  {
   "cell_type": "markdown",
   "metadata": {},
   "source": [
    "Setting numThreads to zero causes the software to use the maximum number of threads allowed on your computer.\n",
    "\n",
    "Disclaimer/Warning: Conformer generation is a difficult and subtle task. The plain distance-geometry 2D->3D conversion provided with the RDKit is not intended to be a replacement for a “real” conformer analysis tool; it merely provides quick 3D structures for cases when they are required. We believe, however, that the newer ETKDG method 18 is suitable for most purposes."
   ]
  },
  {
   "cell_type": "markdown",
   "metadata": {
    "jp-MarkdownHeadingCollapsed": true,
    "tags": []
   },
   "source": [
    "### Preserving Molecules"
   ]
  },
  {
   "cell_type": "markdown",
   "metadata": {},
   "source": [
    "Molecules can be converted to and from text using Python’s pickling machinery:"
   ]
  },
  {
   "cell_type": "code",
   "execution_count": 233,
   "metadata": {},
   "outputs": [
    {
     "data": {
      "text/plain": [
       "'c1ccncc1'"
      ]
     },
     "execution_count": 233,
     "metadata": {},
     "output_type": "execute_result"
    }
   ],
   "source": [
    "m = Chem.MolFromSmiles('c1ccncc1')\n",
    "import pickle\n",
    "pkl = pickle.dumps(m)\n",
    "m2=pickle.loads(pkl)\n",
    "Chem.MolToSmiles(m2)"
   ]
  },
  {
   "cell_type": "markdown",
   "metadata": {},
   "source": [
    "The RDKit pickle format is fairly compact and it is much, much faster to build a molecule from a pickle than from a Mol file or SMILES string, so storing molecules you will be working with repeatedly as pickles can be a good idea.\n",
    "\n",
    "The raw binary data that is encapsulated in a pickle can also be directly obtained from a molecule:"
   ]
  },
  {
   "cell_type": "code",
   "execution_count": 234,
   "metadata": {},
   "outputs": [],
   "source": [
    "binStr = m.ToBinary()"
   ]
  },
  {
   "cell_type": "markdown",
   "metadata": {},
   "source": [
    "This can be used to reconstruct molecules using the Chem.Mol constructor:"
   ]
  },
  {
   "cell_type": "code",
   "execution_count": 235,
   "metadata": {},
   "outputs": [
    {
     "data": {
      "text/plain": [
       "127"
      ]
     },
     "execution_count": 235,
     "metadata": {},
     "output_type": "execute_result"
    }
   ],
   "source": [
    "m2 = Chem.Mol(binStr)\n",
    "Chem.MolToSmiles(m2)\n",
    "\n",
    "len(binStr)"
   ]
  },
  {
   "cell_type": "markdown",
   "metadata": {},
   "source": [
    "Note that this is smaller than the pickle:"
   ]
  },
  {
   "cell_type": "code",
   "execution_count": 236,
   "metadata": {},
   "outputs": [
    {
     "data": {
      "text/plain": [
       "True"
      ]
     },
     "execution_count": 236,
     "metadata": {},
     "output_type": "execute_result"
    }
   ],
   "source": [
    "len(binStr) < len(pkl)"
   ]
  },
  {
   "cell_type": "markdown",
   "metadata": {},
   "source": [
    "The small overhead associated with python’s pickling machinery normally doesn’t end up making much of a difference for collections of larger molecules (the extra data associated with the pickle is independent of the size of the molecule, while the binary string increases in length as the molecule gets larger).\n",
    "\n",
    "Tip: The performance difference associated with storing molecules in a pickled form on disk instead of constantly reparsing an SD file or SMILES table is difficult to overstate. In a test I just ran on my laptop, loading a set of 699 drug-like molecules from an SD file took 10.8 seconds; loading the same molecules from a pickle file took 0.7 seconds. The pickle file is also smaller – 1/3 the size of the SD file – but this difference is not always so dramatic (it’s a particularly fat SD file)."
   ]
  },
  {
   "cell_type": "markdown",
   "metadata": {
    "jp-MarkdownHeadingCollapsed": true,
    "tags": []
   },
   "source": [
    "### Drawing Molecules"
   ]
  },
  {
   "cell_type": "markdown",
   "metadata": {},
   "source": [
    "The RDKit has some built-in functionality for creating images from molecules found in the rdkit.Chem.Draw package:"
   ]
  },
  {
   "cell_type": "code",
   "execution_count": 237,
   "metadata": {},
   "outputs": [],
   "source": [
    "with Chem.SDMolSupplier('data/cdk2.sdf') as suppl:\n",
    "    ms = [x for x in suppl if x is not None]\n",
    "for m in ms: tmp=AllChem.Compute2DCoords(m)\n",
    "from rdkit.Chem import Draw\n",
    "Draw.MolToFile(ms[0],'images/cdk2_mol1.o.png')    \n",
    "Draw.MolToFile(ms[1],'images/cdk2_mol2.o.png')   "
   ]
  },
  {
   "cell_type": "markdown",
   "metadata": {},
   "source": [
    "It’s also possible to produce an image grid out of a set of molecules:"
   ]
  },
  {
   "cell_type": "code",
   "execution_count": 238,
   "metadata": {},
   "outputs": [],
   "source": [
    "img=Draw.MolsToGridImage(ms[:8],molsPerRow=4,subImgSize=(200,200),legends=[x.GetProp(\"_Name\") for x in ms[:8]],returnPNG=False)    "
   ]
  },
  {
   "cell_type": "markdown",
   "metadata": {},
   "source": [
    "This returns a PIL image, which can then be saved to a file:"
   ]
  },
  {
   "cell_type": "code",
   "execution_count": 239,
   "metadata": {},
   "outputs": [],
   "source": [
    "img.save('images/cdk2_molgrid.o.png')    "
   ]
  },
  {
   "cell_type": "markdown",
   "metadata": {},
   "source": [
    "These would of course look better if the common core were aligned. This is easy enough to do:"
   ]
  },
  {
   "cell_type": "code",
   "execution_count": 240,
   "metadata": {},
   "outputs": [],
   "source": [
    "p = Chem.MolFromSmiles('[nH]1cnc2cncnc21')\n",
    "subms = [x for x in ms if x.HasSubstructMatch(p)]\n",
    "len(subms)\n",
    "\n",
    "AllChem.Compute2DCoords(p)\n",
    "\n",
    "for m in subms:\n",
    "    _ = AllChem.GenerateDepictionMatching2DStructure(m,p)\n",
    "img=Draw.MolsToGridImage(subms,molsPerRow=4,subImgSize=(200,200),legends=[x.GetProp(\"_Name\") for x in subms],returnPNG=False)    \n",
    "img.save('images/cdk2_molgrid.aligned.o.png') "
   ]
  },
  {
   "cell_type": "markdown",
   "metadata": {},
   "source": [
    "Atoms in a molecule can be highlighted by drawing a coloured solid or open circle around them, and bonds likewise can have a coloured outline applied. An obvious use is to show atoms and bonds that have matched a substructure query"
   ]
  },
  {
   "cell_type": "code",
   "execution_count": 241,
   "metadata": {},
   "outputs": [],
   "source": [
    "from rdkit.Chem.Draw import rdMolDraw2D\n",
    "smi = 'c1cc(F)ccc1Cl'\n",
    "mol = Chem.MolFromSmiles(smi)\n",
    "patt = Chem.MolFromSmarts('ClccccF')\n",
    "hit_ats = list(mol.GetSubstructMatch(patt))\n",
    "hit_bonds = []\n",
    "for bond in patt.GetBonds():\n",
    "    aid1 = hit_ats[bond.GetBeginAtomIdx()]\n",
    "    aid2 = hit_ats[bond.GetEndAtomIdx()]\n",
    "    hit_bonds.append(mol.GetBondBetweenAtoms(aid1,aid2).GetIdx())\n",
    "d = rdMolDraw2D.MolDraw2DSVG(500, 500) # or MolDraw2DCairo to get PNGs\n",
    "rdMolDraw2D.PrepareAndDrawMolecule(d, mol, highlightAtoms=hit_ats,\n",
    "                                    highlightBonds=hit_bonds)\n"
   ]
  },
  {
   "cell_type": "markdown",
   "metadata": {
    "tags": []
   },
   "source": [
    "It is possible to specify the colours for individual atoms and bonds:"
   ]
  },
  {
   "cell_type": "code",
   "execution_count": 242,
   "metadata": {},
   "outputs": [],
   "source": [
    "colours = [(0.8,0.0,0.8),(0.8,0.8,0),(0,0.8,0.8),(0,0,0.8)]\n",
    "atom_cols = {}\n",
    "for i, at in enumerate(hit_ats):\n",
    "    atom_cols[at] = colours[i%4]\n",
    "bond_cols = {}\n",
    "for i, bd in enumerate(hit_bonds):\n",
    "    bond_cols[bd] = colours[3 - i%4]\n",
    "d = rdMolDraw2D.MolDraw2DCairo(500, 500)\n",
    "rdMolDraw2D.PrepareAndDrawMolecule(d, mol, highlightAtoms=hit_ats,\n",
    "                                   highlightAtomColors=atom_cols,\n",
    "                                   highlightBonds=hit_bonds,\n",
    "                                   highlightBondColors=bond_cols)"
   ]
  },
  {
   "cell_type": "markdown",
   "metadata": {},
   "source": [
    "Atoms and bonds can also be highlighted with multiple colours if they fall into multiple sets, for example if they are matched by more than 1 substructure pattern. This is too complicated to show in this simple introduction, but there is an example in data/test_multi_colours.py, which produces the somewhat garish"
   ]
  },
  {
   "cell_type": "markdown",
   "metadata": {},
   "source": [
    "As of version 2020.03, it is possible to add arbitrary small strings to annotate atoms and bonds in the drawing. The strings are added as properties `atomNote` and `bondNote` and they will be placed automatically close to the atom or bond in question in a manner intended to minimise their clash with the rest of the drawing. For convenience, here are 3 flags in `MolDraw2DOptions` that will add stereo information (R/S to atoms, E/Z to bonds) and atom and bond sequence numbers."
   ]
  },
  {
   "cell_type": "code",
   "execution_count": 243,
   "metadata": {},
   "outputs": [],
   "source": [
    "mol = Chem.MolFromSmiles('Cl[C@H](F)NC\\C=C\\C')\n",
    "d = rdMolDraw2D.MolDraw2DCairo(250, 200) # or MolDraw2DSVG to get SVGs\n",
    "mol.GetAtomWithIdx(2).SetProp('atomNote', 'foo')\n",
    "mol.GetBondWithIdx(0).SetProp('bondNote', 'bar')\n",
    "d.drawOptions().addStereoAnnotation = True\n",
    "d.drawOptions().addAtomIndices = True\n",
    "d.DrawMolecule(mol)\n",
    "d.FinishDrawing()\n",
    "d.WriteDrawingText('atom_annotation_1.png') "
   ]
  },
  {
   "cell_type": "markdown",
   "metadata": {},
   "source": [
    "If atoms have an `atomLabel` property set, this will be used when drawing them:"
   ]
  },
  {
   "cell_type": "code",
   "execution_count": 244,
   "metadata": {},
   "outputs": [],
   "source": [
    "smi = 'c1nc(*)ccc1* |$;;;R1;;;;R2$|'\n",
    "mol = Chem.MolFromSmiles(smi)\n",
    "mol.GetAtomWithIdx(3).GetProp(\"atomLabel\")\n",
    "\n",
    "mol.GetAtomWithIdx(7).GetProp(\"atomLabel\")\n",
    "'R2'\n",
    "d = rdMolDraw2D.MolDraw2DCairo(250, 250)\n",
    "rdMolDraw2D.PrepareAndDrawMolecule(d,mol)\n",
    "d.WriteDrawingText(\"./images/atom_labels_1.png\")  "
   ]
  },
  {
   "cell_type": "markdown",
   "metadata": {},
   "source": [
    "Since the `atomLabel` property is also used for other things (for example in CXSMILES as demonstrated), if you want to provide your own atom labels, it’s better to use the `_displayLabel` property:"
   ]
  },
  {
   "cell_type": "code",
   "execution_count": 245,
   "metadata": {},
   "outputs": [],
   "source": [
    "smi = 'c1nc(*)ccc1* |$;;;R1;;;;R2$|'\n",
    "mol = Chem.MolFromSmiles(smi)\n",
    "mol.GetAtomWithIdx(3).SetProp(\"_displayLabel\",\"R<sub>1</sub>\")\n",
    "mol.GetAtomWithIdx(7).SetProp(\"_displayLabel\",\"R<sub>2</sub>\")\n",
    "d = rdMolDraw2D.MolDraw2DCairo(250, 250)\n",
    "rdMolDraw2D.PrepareAndDrawMolecule(d,mol)\n",
    "d.WriteDrawingText(\"./images/atom_labels_2.png\")   "
   ]
  },
  {
   "cell_type": "markdown",
   "metadata": {},
   "source": [
    "Note that you can use `<sup>` and `<sub>` in these labels to provide super- and subscripts.\n",
    "\n",
    "Finally, if you have atom labels which should be displayed differently when the bond comes into them from the right (the West), you can also set the _displayLabelW property:"
   ]
  },
  {
   "cell_type": "code",
   "execution_count": 246,
   "metadata": {},
   "outputs": [],
   "source": [
    "smi = 'c1nc(*)ccc1* |$;;;R1;;;;R2$|'\n",
    "mol = Chem.MolFromSmiles(smi)\n",
    "mol.GetAtomWithIdx(3).SetProp(\"_displayLabel\",\"CO<sub>2</sub>H\")\n",
    "mol.GetAtomWithIdx(3).SetProp(\"_displayLabelW\",\"HO<sub>2</sub>C\")\n",
    "mol.GetAtomWithIdx(7).SetProp(\"_displayLabel\",\"CO<sub>2</sub><sup>-</sup>\")\n",
    "mol.GetAtomWithIdx(7).SetProp(\"_displayLabelW\",\"<sup>-</sup>OOC\")\n",
    "d = rdMolDraw2D.MolDraw2DCairo(250, 250)\n",
    "rdMolDraw2D.PrepareAndDrawMolecule(d,mol)\n",
    "d.WriteDrawingText(\"./images/atom_labels_3.png\")   "
   ]
  },
  {
   "cell_type": "markdown",
   "metadata": {
    "tags": []
   },
   "source": [
    "### Metadata in Molecule Images"
   ]
  },
  {
   "cell_type": "markdown",
   "metadata": {},
   "source": [
    "The PNG files generated by the MolDraw2DCairo class by default include metadata about the molecule(s) or chemical reaction included in the drawing. This metadata can be used later to reconstruct the molecule(s) or reaction."
   ]
  },
  {
   "cell_type": "code",
   "execution_count": 247,
   "metadata": {},
   "outputs": [
    {
     "data": {
      "text/plain": [
       "'OCCc1c2ccncn2cc1'"
      ]
     },
     "execution_count": 247,
     "metadata": {},
     "output_type": "execute_result"
    }
   ],
   "source": [
    "template = Chem.MolFromSmiles('c1nccc2n1ccc2')\n",
    "AllChem.Compute2DCoords(template)\n",
    "\n",
    "ms = [Chem.MolFromSmiles(smi) for smi in ('OCCc1ccn2cnccc12','C1CC1Oc1cc2ccncn2c1','CNC(=O)c1nccc2cccn12')]\n",
    "_ = [AllChem.GenerateDepictionMatching2DStructure(m,template) for m in ms]\n",
    "d = rdMolDraw2D.MolDraw2DCairo(250, 200)\n",
    "d.DrawMolecule(ms[0])\n",
    "d.FinishDrawing()\n",
    "png = d.GetDrawingText()\n",
    "mol = Chem.MolFromPNGString(png)\n",
    "Chem.MolToSmiles(mol)"
   ]
  },
  {
   "cell_type": "markdown",
   "metadata": {},
   "source": [
    "The molecular metadata is stored using standard metadata tags in the PNG and is, of course, not visible when you look at the PNG:"
   ]
  },
  {
   "cell_type": "markdown",
   "metadata": {},
   "source": [
    "If the PNG contains multiple molecules we can retrieve them all at once using `Chem.MolsFromPNGString()`:"
   ]
  },
  {
   "cell_type": "code",
   "execution_count": 248,
   "metadata": {},
   "outputs": [
    {
     "data": {
      "image/png": "[encoded data removed]",
      "text/plain": [
       "<IPython.core.display.Image object>"
      ]
     },
     "execution_count": 248,
     "metadata": {},
     "output_type": "execute_result"
    }
   ],
   "source": [
    "from rdkit.Chem import Draw\n",
    "png = Draw.MolsToGridImage(ms,returnPNG=True)\n",
    "png"
   ]
  },
  {
   "cell_type": "code",
   "execution_count": 249,
   "metadata": {},
   "outputs": [
    {
     "data": {
      "text/plain": [
       "\"\\nNOTE: THIS COMMAND SHOULD WORK BUT DOESN'T\\n>>> mols = Chem.MolsFromPNGString(png)\\n>>> for mol in mols:\\n...     print(Chem.MolToSmiles(mol))\\n\""
      ]
     },
     "execution_count": 249,
     "metadata": {},
     "output_type": "execute_result"
    }
   ],
   "source": [
    "\"\"\"\n",
    "NOTE: THIS COMMAND SHOULD WORK BUT DOESN'T\n",
    ">>> mols = Chem.MolsFromPNGString(png)\n",
    ">>> for mol in mols:\n",
    "...     print(Chem.MolToSmiles(mol))\n",
    "\"\"\""
   ]
  },
  {
   "cell_type": "markdown",
   "metadata": {},
   "source": [
    "### Substructure Searching"
   ]
  },
  {
   "cell_type": "markdown",
   "metadata": {},
   "source": [
    "Substructure matching can be done using query molecules built from SMARTS:"
   ]
  },
  {
   "cell_type": "code",
   "execution_count": 250,
   "metadata": {},
   "outputs": [
    {
     "name": "stdout",
     "output_type": "stream",
     "text": [
      "True\n",
      "(0, 5, 6)\n"
     ]
    }
   ],
   "source": [
    "m = Chem.MolFromSmiles('c1ccccc1O')\n",
    "patt = Chem.MolFromSmarts('ccO')\n",
    "print( m.HasSubstructMatch(patt) )\n",
    "print( m.GetSubstructMatch(patt) )"
   ]
  },
  {
   "cell_type": "markdown",
   "metadata": {},
   "source": [
    "Those are the atom indices in m, ordered as patt’s atoms. To get all of the matches:"
   ]
  },
  {
   "cell_type": "code",
   "execution_count": 251,
   "metadata": {},
   "outputs": [
    {
     "data": {
      "text/plain": [
       "((0, 5, 6), (4, 5, 6))"
      ]
     },
     "execution_count": 251,
     "metadata": {},
     "output_type": "execute_result"
    }
   ],
   "source": [
    "m.GetSubstructMatches(patt)"
   ]
  },
  {
   "cell_type": "markdown",
   "metadata": {},
   "source": [
    "This can be used to easily filter lists of molecules:"
   ]
  },
  {
   "cell_type": "code",
   "execution_count": 252,
   "metadata": {},
   "outputs": [
    {
     "data": {
      "text/plain": [
       "22"
      ]
     },
     "execution_count": 252,
     "metadata": {},
     "output_type": "execute_result"
    }
   ],
   "source": [
    "patt = Chem.MolFromSmarts('c[NH1]')\n",
    "matches = []\n",
    "with Chem.SDMolSupplier('data/actives_5ht3.sdf') as suppl:\n",
    "    for mol in suppl:\n",
    "        if mol.HasSubstructMatch(patt):\n",
    "            matches.append(mol)\n",
    "len(matches)"
   ]
  },
  {
   "cell_type": "markdown",
   "metadata": {},
   "source": [
    "We can write the same thing more compactly using Python’s list comprehension syntax:"
   ]
  },
  {
   "cell_type": "code",
   "execution_count": 253,
   "metadata": {},
   "outputs": [
    {
     "data": {
      "text/plain": [
       "22"
      ]
     },
     "execution_count": 253,
     "metadata": {},
     "output_type": "execute_result"
    }
   ],
   "source": [
    "with Chem.SDMolSupplier('data/actives_5ht3.sdf') as suppl:\n",
    "    matches = [x for x in suppl if x.HasSubstructMatch(patt)]\n",
    "len(matches)"
   ]
  },
  {
   "cell_type": "markdown",
   "metadata": {},
   "source": [
    "Substructure matching can also be done using molecules built from SMILES instead of SMARTS:"
   ]
  },
  {
   "cell_type": "code",
   "execution_count": 254,
   "metadata": {},
   "outputs": [
    {
     "name": "stdout",
     "output_type": "stream",
     "text": [
      "True\n",
      "True\n"
     ]
    }
   ],
   "source": [
    "m = Chem.MolFromSmiles('C1=CC=CC=C1OC')\n",
    "print( m.HasSubstructMatch(Chem.MolFromSmarts('CO')) )\n",
    "\n",
    "print( m.HasSubstructMatch(Chem.MolFromSmiles('CO')) )"
   ]
  },
  {
   "cell_type": "markdown",
   "metadata": {},
   "source": [
    "But don’t forget that the semantics of the two languages are not exactly equivalent:"
   ]
  },
  {
   "cell_type": "code",
   "execution_count": 255,
   "metadata": {},
   "outputs": [
    {
     "name": "stdout",
     "output_type": "stream",
     "text": [
      "True\n",
      "False\n",
      "True\n"
     ]
    }
   ],
   "source": [
    "print( m.HasSubstructMatch(Chem.MolFromSmiles('COC')) )\n",
    "print( m.HasSubstructMatch(Chem.MolFromSmarts('COC')) )\n",
    "print( m.HasSubstructMatch(Chem.MolFromSmarts('COc')) ) #<- need an aromatic C"
   ]
  },
  {
   "cell_type": "markdown",
   "metadata": {},
   "source": [
    "### Stereochemistry in substructure matches"
   ]
  },
  {
   "cell_type": "markdown",
   "metadata": {},
   "source": [
    "By default information about stereochemistry is not used in substructure searches:"
   ]
  },
  {
   "cell_type": "code",
   "execution_count": 256,
   "metadata": {},
   "outputs": [
    {
     "name": "stdout",
     "output_type": "stream",
     "text": [
      "True\n",
      "True\n",
      "True\n"
     ]
    }
   ],
   "source": [
    "m = Chem.MolFromSmiles('CC[C@H](F)Cl')\n",
    "print( m.HasSubstructMatch(Chem.MolFromSmiles('C[C@H](F)Cl')) )\n",
    "print( m.HasSubstructMatch(Chem.MolFromSmiles('C[C@@H](F)Cl')) )\n",
    "print( m.HasSubstructMatch(Chem.MolFromSmiles('CC(F)Cl')) )"
   ]
  },
  {
   "cell_type": "markdown",
   "metadata": {},
   "source": [
    "But this can be changed via the useChirality argument:"
   ]
  },
  {
   "cell_type": "code",
   "execution_count": 257,
   "metadata": {},
   "outputs": [
    {
     "name": "stdout",
     "output_type": "stream",
     "text": [
      "True\n",
      "False\n",
      "True\n"
     ]
    }
   ],
   "source": [
    "print (m.HasSubstructMatch(Chem.MolFromSmiles('C[C@H](F)Cl'),useChirality=True) )\n",
    "print( m.HasSubstructMatch(Chem.MolFromSmiles('C[C@@H](F)Cl'),useChirality=True) )\n",
    "print( m.HasSubstructMatch(Chem.MolFromSmiles('CC(F)Cl'),useChirality=True) )"
   ]
  },
  {
   "cell_type": "markdown",
   "metadata": {},
   "source": [
    "Notice that when useChirality is set a non-chiral query does match a chiral molecule. The same is not true for a chiral query and a non-chiral molecule:"
   ]
  },
  {
   "cell_type": "code",
   "execution_count": 258,
   "metadata": {},
   "outputs": [
    {
     "name": "stdout",
     "output_type": "stream",
     "text": [
      "True\n",
      "False\n"
     ]
    }
   ],
   "source": [
    "print( m.HasSubstructMatch(Chem.MolFromSmiles('CC(F)Cl')) )\n",
    "m2 = Chem.MolFromSmiles('CCC(F)Cl')\n",
    "print( m2.HasSubstructMatch(Chem.MolFromSmiles('C[C@H](F)Cl'),useChirality=True) )"
   ]
  },
  {
   "cell_type": "markdown",
   "metadata": {},
   "source": [
    "### Atom Map Indices in SMARTS"
   ]
  },
  {
   "cell_type": "markdown",
   "metadata": {},
   "source": [
    "It is possible to attach indices to the atoms in the SMARTS pattern. This is most often done in reaction SMARTS (see Chemical Reactions), but is more general than that. For example, in the SMARTS patterns for torsion angle analysis published by Guba et al. (`DOI: acs.jcim.5b00522`) indices are used to define the four atoms of the torsion of interest. This allows additional atoms to be used to define the environment of the four torsion atoms, as in `[cH0:1][c:2]([cH0])!@[CX3!r:3]=[NX2!r:4]` for an aromatic C=N torsion. We might wonder in passing why they didn’t use recursive SMARTS for this, which would have made life easier, but it is what it is. The atom lists from `GetSubstructureMatches` are guaranteed to be in order of the SMARTS, but in this case we’ll get five atoms so we need a way of picking out, in the correct order, the four of interest. When the SMARTS is parsed, the relevant atoms are assigned an atom map number property that we can easily extract:"
   ]
  },
  {
   "cell_type": "code",
   "execution_count": 259,
   "metadata": {},
   "outputs": [
    {
     "name": "stdout",
     "output_type": "stream",
     "text": [
      "{0: 0, 1: 1, 2: 3, 3: 4}\n",
      "[0, 1, 3, 4]\n"
     ]
    }
   ],
   "source": [
    "qmol = Chem.MolFromSmarts( '[cH0:1][c:2]([cH0])!@[CX3!r:3]=[NX2!r:4]' )\n",
    "ind_map = {}\n",
    "for atom in qmol.GetAtoms() :\n",
    "    map_num = atom.GetAtomMapNum()\n",
    "    if map_num:\n",
    "        ind_map[map_num-1] = atom.GetIdx()\n",
    "print( ind_map )\n",
    "map_list = [ind_map[x] for x in sorted(ind_map)]\n",
    "print( map_list )"
   ]
  },
  {
   "cell_type": "markdown",
   "metadata": {},
   "source": [
    "Then, when using the query on a molecule you can get the indices of the four matching atoms like this:"
   ]
  },
  {
   "cell_type": "code",
   "execution_count": 260,
   "metadata": {},
   "outputs": [
    {
     "name": "stdout",
     "output_type": "stream",
     "text": [
      "[1, 7, 8, 10]\n"
     ]
    }
   ],
   "source": [
    "mol = Chem.MolFromSmiles('Cc1cccc(C)c1C(C)=NC')\n",
    "for match in mol.GetSubstructMatches( qmol ) :\n",
    "    mas = [match[x] for x in map_list]\n",
    "    print(mas)"
   ]
  },
  {
   "cell_type": "markdown",
   "metadata": {},
   "source": [
    "### Advanced substructure matching"
   ]
  },
  {
   "cell_type": "markdown",
   "metadata": {},
   "source": [
    "Starting with the 2020.03 release, the RDKit allows you to provide an optional function that is used to check whether or not a possible substructure match should be accepted. This function is called with the molecule to be matched and the indices of the matching atoms.\n",
    "\n",
    "Here’s an example of how you can use the functionality to do “Markush-like” matching, requiring that all atoms in a sidechain are either carbon (type “all_carbon”) or aren’t aromatic (type “alkyl”). We start by defining the class that we’ll use to test the sidechains:"
   ]
  },
  {
   "cell_type": "code",
   "execution_count": 261,
   "metadata": {},
   "outputs": [],
   "source": [
    "from rdkit import Chem\n",
    "\n",
    "class SidechainChecker(object):\n",
    "  matchers = {\n",
    "    'alkyl': lambda at: not at.GetIsAromatic(),\n",
    "    'all_carbon': lambda at: at.GetAtomicNum() == 6\n",
    "  }\n",
    "\n",
    "  def __init__(self, query, pName=\"queryType\"):\n",
    "    # identify the atoms that have the properties we care about\n",
    "    self._atsToExamine = [(x.GetIdx(), x.GetProp(pName)) for x in query.GetAtoms()\n",
    "                          if x.HasProp(pName)]\n",
    "    self._pName = pName\n",
    "\n",
    "  def __call__(self, mol, vect):\n",
    "    seen = [0] * mol.GetNumAtoms()\n",
    "    for idx in vect:\n",
    "      seen[idx] = 1\n",
    "    # loop over the atoms we care about:\n",
    "    for idx, qtyp in self._atsToExamine:\n",
    "      midx = vect[idx]\n",
    "      stack = [midx]\n",
    "      atom = mol.GetAtomWithIdx(midx)\n",
    "      # now do a breadth-first search from that atom, checking\n",
    "      # all of its neighbors that aren't in the substructure\n",
    "      # query:\n",
    "      stack = [atom]\n",
    "      while stack:\n",
    "        atom = stack.pop(0)\n",
    "        if not self.matchers[qtyp](atom):\n",
    "          return False\n",
    "        seen[atom.GetIdx()] = 1\n",
    "        for nbr in atom.GetNeighbors():\n",
    "          if not seen[nbr.GetIdx()]:\n",
    "            stack.append(nbr)\n",
    "    return True"
   ]
  },
  {
   "cell_type": "markdown",
   "metadata": {},
   "source": [
    "And the default behavior:"
   ]
  },
  {
   "cell_type": "code",
   "execution_count": 262,
   "metadata": {},
   "outputs": [
    {
     "name": "stdout",
     "output_type": "stream",
     "text": [
      "((5, 6, 11, 17, 18), (5, 17, 11, 6, 7), (6, 5, 17, 11, 12), (6, 11, 17, 5, 4))\n"
     ]
    }
   ],
   "source": [
    "m = Chem.MolFromSmiles('C2NCC2CC1C(CCCC)C(OCCCC)C1c2ccccc2')\n",
    "p = Chem.MolFromSmarts('C1CCC1*')\n",
    "p.GetAtomWithIdx(4).SetProp(\"queryType\", \"all_carbon\")\n",
    "print( m.GetSubstructMatches(p) )"
   ]
  },
  {
   "cell_type": "markdown",
   "metadata": {},
   "source": [
    "Now let’s add the final check to filter the results:"
   ]
  },
  {
   "cell_type": "code",
   "execution_count": 263,
   "metadata": {},
   "outputs": [
    {
     "name": "stdout",
     "output_type": "stream",
     "text": [
      "((5, 6, 11, 17, 18), (5, 17, 11, 6, 7))\n"
     ]
    }
   ],
   "source": [
    "params = Chem.SubstructMatchParameters()\n",
    "checker = SidechainChecker(p)\n",
    "params.setExtraFinalCheck(checker)\n",
    "print( m.GetSubstructMatches(p,params) )"
   ]
  },
  {
   "cell_type": "markdown",
   "metadata": {},
   "source": [
    "Repeat that using the ‘alkyl’ query:"
   ]
  },
  {
   "cell_type": "code",
   "execution_count": 264,
   "metadata": {},
   "outputs": [
    {
     "name": "stdout",
     "output_type": "stream",
     "text": [
      "((5, 17, 11, 6, 7), (6, 5, 17, 11, 12), (6, 11, 17, 5, 4))\n"
     ]
    }
   ],
   "source": [
    "p.GetAtomWithIdx(4).SetProp(\"queryType\", \"alkyl\")\n",
    "checker = SidechainChecker(p)\n",
    "params.setExtraFinalCheck(checker)\n",
    "print( m.GetSubstructMatches(p,params) )"
   ]
  },
  {
   "cell_type": "markdown",
   "metadata": {
    "jp-MarkdownHeadingCollapsed": true,
    "tags": []
   },
   "source": [
    "## Chemical Transformations"
   ]
  },
  {
   "cell_type": "markdown",
   "metadata": {},
   "source": [
    "The RDKit contains a number of functions for modifying molecules. Note that these transformation functions are intended to provide an easy way to make simple modifications to molecules. For more complex transformations, use the Chemical Reactions functionality."
   ]
  },
  {
   "cell_type": "markdown",
   "metadata": {},
   "source": [
    "### Substructure-based transformations"
   ]
  },
  {
   "cell_type": "markdown",
   "metadata": {},
   "source": [
    "There’s a variety of functionality for using the RDKit’s substructure-matching machinery for doing quick molecular transformations. These transformations include deleting substructures:"
   ]
  },
  {
   "cell_type": "code",
   "execution_count": 265,
   "metadata": {},
   "outputs": [
    {
     "name": "stdout",
     "output_type": "stream",
     "text": [
      "C\n"
     ]
    }
   ],
   "source": [
    "m = Chem.MolFromSmiles('CC(=O)O')\n",
    "patt = Chem.MolFromSmarts('C(=O)[OH]')\n",
    "rm = AllChem.DeleteSubstructs(m,patt)\n",
    "print( Chem.MolToSmiles(rm) )"
   ]
  },
  {
   "cell_type": "markdown",
   "metadata": {},
   "source": [
    "replacing substructures:"
   ]
  },
  {
   "cell_type": "code",
   "execution_count": 266,
   "metadata": {},
   "outputs": [
    {
     "name": "stdout",
     "output_type": "stream",
     "text": [
      "(<rdkit.Chem.rdchem.Mol object at 0x7f29189f0930>,)\n",
      "COC(C)=O\n"
     ]
    }
   ],
   "source": [
    "repl = Chem.MolFromSmiles('OC')\n",
    "patt = Chem.MolFromSmarts('[$(NC(=O))]')\n",
    "m = Chem.MolFromSmiles('CC(=O)N')\n",
    "rms = AllChem.ReplaceSubstructs(m,patt,repl)\n",
    "print( rms )\n",
    "print( Chem.MolToSmiles(rms[0]) )"
   ]
  },
  {
   "cell_type": "markdown",
   "metadata": {},
   "source": [
    "as well as simple SAR-table transformations like removing side chains:"
   ]
  },
  {
   "cell_type": "code",
   "execution_count": 267,
   "metadata": {},
   "outputs": [
    {
     "name": "stdout",
     "output_type": "stream",
     "text": [
      "[1*]c1cncnc1[2*]\n"
     ]
    }
   ],
   "source": [
    "m1 = Chem.MolFromSmiles('BrCCc1cncnc1C(=O)O')\n",
    "core = Chem.MolFromSmiles('c1cncnc1')\n",
    "tmp = Chem.ReplaceSidechains(m1,core)\n",
    "print( Chem.MolToSmiles(tmp) )"
   ]
  },
  {
   "cell_type": "markdown",
   "metadata": {},
   "source": [
    "and removing cores:"
   ]
  },
  {
   "cell_type": "code",
   "execution_count": 268,
   "metadata": {},
   "outputs": [
    {
     "name": "stdout",
     "output_type": "stream",
     "text": [
      "[1*]CCBr.[2*]C(=O)O\n"
     ]
    }
   ],
   "source": [
    "tmp = Chem.ReplaceCore(m1,core)\n",
    "print( Chem.MolToSmiles(tmp) )"
   ]
  },
  {
   "cell_type": "markdown",
   "metadata": {},
   "source": [
    "By default the sidechains are labeled based on the order they are found. They can also be labeled according by the number of that core-atom they’re attached to:"
   ]
  },
  {
   "cell_type": "code",
   "execution_count": 269,
   "metadata": {},
   "outputs": [
    {
     "name": "stdout",
     "output_type": "stream",
     "text": [
      "[1*]CCO.[5*]C(=O)O\n"
     ]
    }
   ],
   "source": [
    "m1 = Chem.MolFromSmiles('c1c(CCO)ncnc1C(=O)O')\n",
    "tmp=Chem.ReplaceCore(m1,core,labelByIndex=True)\n",
    "print( Chem.MolToSmiles(tmp) )"
   ]
  },
  {
   "cell_type": "markdown",
   "metadata": {},
   "source": [
    "`rdkit.Chem.rdmolops.ReplaceCore()` returns the sidechains in a single molecule. This can be split into separate molecules using `rdkit.Chem.rdmolops.GetMolFrags()` :"
   ]
  },
  {
   "cell_type": "code",
   "execution_count": 270,
   "metadata": {},
   "outputs": [
    {
     "name": "stdout",
     "output_type": "stream",
     "text": [
      "2\n",
      "[1*]CCO\n",
      "[5*]C(=O)O\n"
     ]
    }
   ],
   "source": [
    "rs = Chem.GetMolFrags(tmp,asMols=True)\n",
    "print( len(rs) )\n",
    "print( Chem.MolToSmiles(rs[0]) )\n",
    "print( Chem.MolToSmiles(rs[1]) )"
   ]
  },
  {
   "cell_type": "markdown",
   "metadata": {},
   "source": [
    "### Murcko Decomposition"
   ]
  },
  {
   "cell_type": "markdown",
   "metadata": {},
   "source": [
    "The RDKit provides standard Murcko-type decomposition 7 of molecules into scaffolds:"
   ]
  },
  {
   "cell_type": "code",
   "execution_count": 271,
   "metadata": {},
   "outputs": [
    {
     "name": "stdout",
     "output_type": "stream",
     "text": [
      "c1ncc2nc[nH]c2n1\n"
     ]
    }
   ],
   "source": [
    "from rdkit.Chem.Scaffolds import MurckoScaffold\n",
    "with Chem.SDMolSupplier('data/cdk2.sdf') as cdk2mols:\n",
    "    m1 = cdk2mols[0]\n",
    "core = MurckoScaffold.GetScaffoldForMol(m1)\n",
    "print( Chem.MolToSmiles(core) )"
   ]
  },
  {
   "cell_type": "markdown",
   "metadata": {},
   "source": [
    "or into a generic framework:"
   ]
  },
  {
   "cell_type": "code",
   "execution_count": 272,
   "metadata": {},
   "outputs": [
    {
     "name": "stdout",
     "output_type": "stream",
     "text": [
      "C1CCC2CCCC2C1\n"
     ]
    }
   ],
   "source": [
    "fw = MurckoScaffold.MakeScaffoldGeneric(core)\n",
    "print( Chem.MolToSmiles(fw) )"
   ]
  },
  {
   "cell_type": "markdown",
   "metadata": {},
   "source": [
    "### Maximum Common Substructure"
   ]
  },
  {
   "cell_type": "markdown",
   "metadata": {},
   "source": [
    "The FindMCS function find a maximum common substructure (MCS) of two or more molecules:"
   ]
  },
  {
   "cell_type": "code",
   "execution_count": 273,
   "metadata": {},
   "outputs": [
    {
     "name": "stdout",
     "output_type": "stream",
     "text": [
      "<rdkit.Chem.rdFMCS.MCSResult object at 0x7f290ac773f0>\n",
      "10\n",
      "10\n",
      "[#6]1(-[#6]):[#6]:[#6](-[#8]-[#6]):[#6](:[#6]:[#6]:1)-[#8]\n",
      "False\n"
     ]
    }
   ],
   "source": [
    "from rdkit.Chem import rdFMCS\n",
    "mol1 = Chem.MolFromSmiles(\"O=C(NCc1cc(OC)c(O)cc1)CCCC/C=C/C(C)C\")\n",
    "mol2 = Chem.MolFromSmiles(\"CC(C)CCCCCC(=O)NCC1=CC(=C(C=C1)O)OC\")\n",
    "mol3 = Chem.MolFromSmiles(\"c1(C=O)cc(OC)c(O)cc1\")\n",
    "mols = [mol1,mol2,mol3]\n",
    "res=rdFMCS.FindMCS(mols)\n",
    "print( res )\n",
    "print( res.numAtoms )\n",
    "print( res.numBonds )\n",
    "print( res.smartsString )\n",
    "print( res.canceled )"
   ]
  },
  {
   "cell_type": "markdown",
   "metadata": {},
   "source": [
    "It returns an MCSResult instance with information about the number of atoms and bonds in the MCS, the SMARTS string which matches the identified MCS, and a flag saying if the algorithm timed out. If no MCS is found then the number of atoms and bonds is set to 0 and the SMARTS to ''.\n",
    "\n",
    "By default, two atoms match if they are the same element and two bonds match if they have the same bond type. Specify atomCompare and bondCompare to use different comparison functions, as in:"
   ]
  },
  {
   "cell_type": "code",
   "execution_count": 274,
   "metadata": {},
   "outputs": [
    {
     "name": "stdout",
     "output_type": "stream",
     "text": [
      "[#6]\n",
      "[#7,#8]-[#6]\n",
      "[#6]-,=[#6]\n"
     ]
    }
   ],
   "source": [
    "mols = (Chem.MolFromSmiles('NCC'),Chem.MolFromSmiles('OC=C'))\n",
    "print( rdFMCS.FindMCS(mols).smartsString )\n",
    "print( rdFMCS.FindMCS(mols, atomCompare=rdFMCS.AtomCompare.CompareAny).smartsString )\n",
    "print( rdFMCS.FindMCS(mols, bondCompare=rdFMCS.BondCompare.CompareAny).smartsString )"
   ]
  },
  {
   "cell_type": "markdown",
   "metadata": {},
   "source": [
    "The options for the atomCompare argument are: CompareAny says that any atom matches any other atom, CompareElements compares by element type, and CompareIsotopes matches based on the isotope label. Isotope labels can be used to implement user-defined atom types. A bondCompare of CompareAny says that any bond matches any other bond, CompareOrderExact says bonds are equivalent if and only if they have the same bond type, and CompareOrder allows single and aromatic bonds to match each other, but requires an exact order match otherwise:"
   ]
  },
  {
   "cell_type": "code",
   "execution_count": 275,
   "metadata": {},
   "outputs": [
    {
     "name": "stdout",
     "output_type": "stream",
     "text": [
      "[#6]1:,-[#6]:,-[#6]:,-[#6]:,-[#6]:,=[#6]:,-1\n",
      "[#6]\n",
      "[#6](:,-[#6]:,-[#6]:,-[#6]):,-[#6]:,-[#6]\n"
     ]
    }
   ],
   "source": [
    "mols = (Chem.MolFromSmiles('c1ccccc1'),Chem.MolFromSmiles('C1CCCC=C1'))\n",
    "print( rdFMCS.FindMCS(mols,bondCompare=rdFMCS.BondCompare.CompareAny).smartsString )\n",
    "print( rdFMCS.FindMCS(mols,bondCompare=rdFMCS.BondCompare.CompareOrderExact).smartsString )\n",
    "print( rdFMCS.FindMCS(mols,bondCompare=rdFMCS.BondCompare.CompareOrder).smartsString )"
   ]
  },
  {
   "cell_type": "markdown",
   "metadata": {},
   "source": [
    "A substructure has both atoms and bonds. By default, the algorithm attempts to maximize the number of bonds found. You can change this by setting the `maximizeBonds` argument to False. Maximizing the number of bonds tends to maximize the number of rings, although two small rings may have fewer bonds than one large ring.\n",
    "\n",
    "You might not want a 3-valent nitrogen to match one which is 5-valent. The default `matchValences` value of False ignores valence information. When True, the atomCompare setting is modified to also require that the two atoms have the same valency."
   ]
  },
  {
   "cell_type": "code",
   "execution_count": 276,
   "metadata": {},
   "outputs": [
    {
     "name": "stdout",
     "output_type": "stream",
     "text": [
      "4\n",
      "3\n"
     ]
    }
   ],
   "source": [
    "mols = (Chem.MolFromSmiles('NC1OC1'),Chem.MolFromSmiles('C1OC1[N+](=O)[O-]'))\n",
    "print( rdFMCS.FindMCS(mols).numAtoms )\n",
    "print( rdFMCS.FindMCS(mols, matchValences=True).numBonds )"
   ]
  },
  {
   "cell_type": "markdown",
   "metadata": {},
   "source": [
    "It can be strange to see a linear carbon chain match a carbon ring, which is what the `ringMatchesRingOnly` default of False does. If you set it to True then ring bonds will only match ring bonds."
   ]
  },
  {
   "cell_type": "code",
   "execution_count": 277,
   "metadata": {},
   "outputs": [
    {
     "name": "stdout",
     "output_type": "stream",
     "text": [
      "[#6](-[#6]-[#6])-[#6]-[#6]-[#6]-[#6]\n",
      "[#6&R](-&@[#6&R]-&@[#6&R])-&@[#6&R]\n"
     ]
    }
   ],
   "source": [
    "mols = [Chem.MolFromSmiles(\"C1CCC1CCC\"), Chem.MolFromSmiles(\"C1CCCCCC1\")]\n",
    "print( rdFMCS.FindMCS(mols).smartsString )\n",
    "print( rdFMCS.FindMCS(mols, ringMatchesRingOnly=True).smartsString )"
   ]
  },
  {
   "cell_type": "markdown",
   "metadata": {},
   "source": [
    "Notice that the SMARTS returned now include ring queries on the atoms and bonds.\n",
    "\n",
    "You can further restrict things and require that partial rings (as in this case) are not allowed. That is, if an atom is part of the MCS and the atom is in a ring of the entire molecule then that atom is also in a ring of the MCS. Setting `completeRingsOnly` to True toggles this requirement."
   ]
  },
  {
   "cell_type": "code",
   "execution_count": 278,
   "metadata": {},
   "outputs": [
    {
     "name": "stdout",
     "output_type": "stream",
     "text": [
      "[#6]1-[#6]-[#6](-[#6]-1-[#6])-[#6]\n",
      "[#6&R](-&@[#6&R]-&@[#6&R]-&@[#6&R]-&@[#6&R])-&@[#6&R]\n",
      "[#6]1-&@[#6]-&@[#6]-&@[#6]-&@1\n"
     ]
    }
   ],
   "source": [
    "mols = [Chem.MolFromSmiles(\"CCC1CC2C1CN2\"), Chem.MolFromSmiles(\"C1CC2C1CC2\")]\n",
    "print( rdFMCS.FindMCS(mols).smartsString )\n",
    "print( rdFMCS.FindMCS(mols, ringMatchesRingOnly=True).smartsString )\n",
    "print( rdFMCS.FindMCS(mols, completeRingsOnly=True).smartsString )"
   ]
  },
  {
   "cell_type": "markdown",
   "metadata": {},
   "source": [
    "Of course the two options can be combined with each other:"
   ]
  },
  {
   "cell_type": "code",
   "execution_count": 279,
   "metadata": {},
   "outputs": [
    {
     "name": "stdout",
     "output_type": "stream",
     "text": [
      "[#6&!R]-&!@[#6&R](-&@[#6&R])-&@[#6&R]\n",
      "[#6]-&!@[#6]\n",
      "[#6&!R]-&!@[#6&R]\n"
     ]
    }
   ],
   "source": [
    "ms = [Chem.MolFromSmiles(x) for x in ('CC1CCC1','CCC1CC1',)]\n",
    "print( rdFMCS.FindMCS(ms,ringMatchesRingOnly=True).smartsString )\n",
    "print( rdFMCS.FindMCS(ms,completeRingsOnly=True).smartsString )\n",
    "print( rdFMCS.FindMCS(ms,ringMatchesRingOnly=True,completeRingsOnly=True).smartsString )"
   ]
  },
  {
   "cell_type": "markdown",
   "metadata": {},
   "source": [
    "The MCS algorithm will exhaustively search for a maximum common substructure. Typically this takes a fraction of a second, but for some comparisons this can take minutes or longer. Use the `timeout` parameter to stop the search after the given number of seconds (wall-clock seconds, not CPU seconds) and return the best match found in that time. If timeout is reached then the `canceled` property of the MCSResult will be True instead of False."
   ]
  },
  {
   "cell_type": "code",
   "execution_count": 280,
   "metadata": {},
   "outputs": [
    {
     "name": "stdout",
     "output_type": "stream",
     "text": [
      "True\n"
     ]
    }
   ],
   "source": [
    "mols = [Chem.MolFromSmiles(\"Nc1ccccc1\"*10), Chem.MolFromSmiles(\"Nc1ccccccccc1\"*10)]\n",
    "print( rdFMCS.FindMCS(mols, timeout=1).canceled )"
   ]
  },
  {
   "cell_type": "markdown",
   "metadata": {},
   "source": [
    "(The MCS after 50 seconds contained 511 atoms.)"
   ]
  },
  {
   "cell_type": "markdown",
   "metadata": {
    "tags": []
   },
   "source": [
    "## Fingerprinting and Molecular Similarity"
   ]
  },
  {
   "cell_type": "markdown",
   "metadata": {},
   "source": [
    "The RDKit has a variety of built-in functionality for generating molecular fingerprints and using them to calculate molecular similarity."
   ]
  },
  {
   "cell_type": "markdown",
   "metadata": {
    "tags": []
   },
   "source": [
    "### Topological Fingerprints"
   ]
  },
  {
   "cell_type": "code",
   "execution_count": 281,
   "metadata": {},
   "outputs": [
    {
     "name": "stdout",
     "output_type": "stream",
     "text": [
      "0.6\n",
      "0.4\n",
      "0.25\n"
     ]
    }
   ],
   "source": [
    "from rdkit import DataStructs\n",
    "ms = [Chem.MolFromSmiles('CCOC'), Chem.MolFromSmiles('CCO'),\n",
    "        Chem.MolFromSmiles('COC')]\n",
    "fps = [Chem.RDKFingerprint(x) for x in ms]\n",
    "print( DataStructs.FingerprintSimilarity(fps[0],fps[1]) )\n",
    "print( DataStructs.FingerprintSimilarity(fps[0],fps[2]) )\n",
    "print( DataStructs.FingerprintSimilarity(fps[1],fps[2]) )"
   ]
  },
  {
   "cell_type": "markdown",
   "metadata": {},
   "source": [
    "More details about the algorithm used for the RDKit fingerprint can be found in the “RDKit Book”.\n",
    "\n",
    "The default set of parameters used by the fingerprinter is: - minimum path size: 1 bond - maximum path size: 7 bonds - fingerprint size: 2048 bits - number of bits set per hash: 2 - minimum fingerprint size: 64 bits - target on-bit density 0.0\n",
    "\n",
    "You can control these when calling `rdkit.Chem.rdmolops.RDKFingerprint()`. The function `rdkit.Chem.Fingerprints.FingerprintMols.FingerprintMol()` (written in python) shows how this is done.\n",
    "\n",
    "The default similarity metric used by `rdkit.DataStructs.FingerprintSimilarity()` is the Tanimoto similarity. One can use different similarity metrics:"
   ]
  },
  {
   "cell_type": "code",
   "execution_count": 282,
   "metadata": {},
   "outputs": [
    {
     "name": "stdout",
     "output_type": "stream",
     "text": [
      "0.75\n"
     ]
    }
   ],
   "source": [
    "print( DataStructs.FingerprintSimilarity(fps[0],fps[1], metric=DataStructs.DiceSimilarity) )"
   ]
  },
  {
   "cell_type": "markdown",
   "metadata": {},
   "source": [
    "Available similarity metrics include Tanimoto, Dice, Cosine, Sokal, Russel, Kulczynski, McConnaughey, and Tversky."
   ]
  },
  {
   "cell_type": "markdown",
   "metadata": {
    "jp-MarkdownHeadingCollapsed": true,
    "tags": []
   },
   "source": [
    "### MACCS Keys"
   ]
  },
  {
   "cell_type": "markdown",
   "metadata": {},
   "source": [
    "There is a SMARTS-based implementation of the 166 public MACCS keys."
   ]
  },
  {
   "cell_type": "code",
   "execution_count": 375,
   "metadata": {},
   "outputs": [
    {
     "name": "stdout",
     "output_type": "stream",
     "text": [
      "0.9859154929577465\n",
      "0.9859154929577465\n",
      "1.0\n"
     ]
    }
   ],
   "source": [
    "from rdkit.Chem import MACCSkeys\n",
    "fps = [MACCSkeys.GenMACCSKeys(x) for x in ms]\n",
    "print( DataStructs.FingerprintSimilarity(fps[0],fps[1]) )\n",
    "print( DataStructs.FingerprintSimilarity(fps[0],fps[2]) )\n",
    "print( DataStructs.FingerprintSimilarity(fps[1],fps[2]) )"
   ]
  },
  {
   "cell_type": "markdown",
   "metadata": {},
   "source": [
    "The MACCS keys were critically evaluated and compared to other MACCS implementations in Q3 2008. In cases where the public keys are fully defined, things looked pretty good.\n"
   ]
  },
  {
   "cell_type": "markdown",
   "metadata": {
    "jp-MarkdownHeadingCollapsed": true,
    "tags": []
   },
   "source": [
    "### Atom Pairs and Topological Torsions"
   ]
  },
  {
   "cell_type": "markdown",
   "metadata": {},
   "source": [
    "Atom-pair descriptors are available in several different forms. The standard form is as fingerprint including counts for each bit instead of just zeros and ones:"
   ]
  },
  {
   "cell_type": "code",
   "execution_count": 284,
   "metadata": {},
   "outputs": [],
   "source": [
    "from rdkit.Chem.AtomPairs import Pairs\n",
    "ms = [Chem.MolFromSmiles('C1CCC1OCC'),Chem.MolFromSmiles('CC(C)OCC'),Chem.MolFromSmiles('CCOCC')]\n",
    "pairFps = [Pairs.GetAtomPairFingerprint(x) for x in ms]"
   ]
  },
  {
   "cell_type": "markdown",
   "metadata": {},
   "source": [
    "Because the space of bits that can be included in atom-pair fingerprints is huge, they are stored in a sparse manner. We can get the list of bits and their counts for each fingerprint as a dictionary:"
   ]
  },
  {
   "cell_type": "code",
   "execution_count": 285,
   "metadata": {},
   "outputs": [
    {
     "name": "stdout",
     "output_type": "stream",
     "text": [
      "1\n",
      "2\n"
     ]
    }
   ],
   "source": [
    "d = pairFps[-1].GetNonzeroElements()\n",
    "print( d[541732] )\n",
    "print( d[1606690] )"
   ]
  },
  {
   "cell_type": "markdown",
   "metadata": {},
   "source": [
    "Descriptions of the bits are also available:"
   ]
  },
  {
   "cell_type": "code",
   "execution_count": 286,
   "metadata": {},
   "outputs": [
    {
     "data": {
      "text/plain": [
       "(('C', 1, 0), 3, ('C', 2, 0))"
      ]
     },
     "execution_count": 286,
     "metadata": {},
     "output_type": "execute_result"
    }
   ],
   "source": [
    "Pairs.ExplainPairScore(558115)"
   ]
  },
  {
   "cell_type": "markdown",
   "metadata": {},
   "source": [
    "The above means: C with 1 neighbor and 0 pi electrons which is 3 bonds from a C with 2 neighbors and 0 pi electrons\n",
    "\n",
    "The usual metric for similarity between atom-pair fingerprints is Dice similarity:"
   ]
  },
  {
   "cell_type": "code",
   "execution_count": 287,
   "metadata": {},
   "outputs": [
    {
     "name": "stdout",
     "output_type": "stream",
     "text": [
      "0.3333333333333333\n",
      "0.25806451612903225\n",
      "0.56\n"
     ]
    }
   ],
   "source": [
    "from rdkit import DataStructs\n",
    "print( DataStructs.DiceSimilarity(pairFps[0],pairFps[1]) )\n",
    "print( DataStructs.DiceSimilarity(pairFps[0],pairFps[2]) )\n",
    "print( DataStructs.DiceSimilarity(pairFps[1],pairFps[2]) )"
   ]
  },
  {
   "cell_type": "markdown",
   "metadata": {},
   "source": [
    "It’s also possible to get atom-pair descriptors encoded as a standard bit vector fingerprint (ignoring the count information):"
   ]
  },
  {
   "cell_type": "code",
   "execution_count": 288,
   "metadata": {},
   "outputs": [],
   "source": [
    "pairFps = [Pairs.GetAtomPairFingerprintAsBitVect(x) for x in ms]"
   ]
  },
  {
   "cell_type": "markdown",
   "metadata": {},
   "source": [
    "Since these are standard bit vectors, the `rdkit.DataStructs` module can be used for similarity:"
   ]
  },
  {
   "cell_type": "code",
   "execution_count": 289,
   "metadata": {},
   "outputs": [
    {
     "name": "stdout",
     "output_type": "stream",
     "text": [
      "0.48\n",
      "0.38095238095238093\n",
      "0.625\n"
     ]
    }
   ],
   "source": [
    "from rdkit import DataStructs\n",
    "print( DataStructs.DiceSimilarity(pairFps[0],pairFps[1]) )\n",
    "print( DataStructs.DiceSimilarity(pairFps[0],pairFps[2]) )\n",
    "print( DataStructs.DiceSimilarity(pairFps[1],pairFps[2]) )"
   ]
  },
  {
   "cell_type": "markdown",
   "metadata": {},
   "source": [
    "Topological torsion descriptors are calculated in essentially the same way:"
   ]
  },
  {
   "cell_type": "markdown",
   "metadata": {
    "jp-MarkdownHeadingCollapsed": true,
    "tags": []
   },
   "source": [
    "### Morgan Fingerprints (Circular Fingerprints)"
   ]
  },
  {
   "cell_type": "markdown",
   "metadata": {},
   "source": [
    "This family of fingerprints, better known as circular fingerprints, is built by applying the Morgan algorithm to a set of user-supplied atom invariants. When generating Morgan fingerprints, the radius of the fingerprint must also be provided :"
   ]
  },
  {
   "cell_type": "code",
   "execution_count": 290,
   "metadata": {},
   "outputs": [
    {
     "name": "stdout",
     "output_type": "stream",
     "text": [
      "<rdkit.DataStructs.cDataStructs.UIntSparseIntVect object at 0x7f290ad3cf80>\n",
      "0.55\n"
     ]
    }
   ],
   "source": [
    "from rdkit.Chem import AllChem\n",
    "m1 = Chem.MolFromSmiles('Cc1ccccc1') \n",
    "fp1 = AllChem.GetMorganFingerprint(m1,2)\n",
    "print( fp1 )\n",
    "m2 = Chem.MolFromSmiles('Cc1ncccc1')\n",
    "fp2 = AllChem.GetMorganFingerprint(m2,2)\n",
    "print( DataStructs.DiceSimilarity(fp1,fp2) )"
   ]
  },
  {
   "cell_type": "markdown",
   "metadata": {},
   "source": [
    "Morgan fingerprints, like atom pairs and topological torsions, use counts by default, but it’s also possible to calculate them as bit vectors:"
   ]
  },
  {
   "cell_type": "code",
   "execution_count": 291,
   "metadata": {},
   "outputs": [
    {
     "name": "stdout",
     "output_type": "stream",
     "text": [
      "<rdkit.DataStructs.cDataStructs.ExplicitBitVect object at 0x7f290ad00030>\n",
      "0.5185185185185185\n"
     ]
    }
   ],
   "source": [
    "fp1 = AllChem.GetMorganFingerprintAsBitVect(m1,2,nBits=1024)\n",
    "print( fp1 )\n",
    "fp2 = AllChem.GetMorganFingerprintAsBitVect(m2,2,nBits=1024)\n",
    "print( DataStructs.DiceSimilarity(fp1,fp2) )"
   ]
  },
  {
   "cell_type": "markdown",
   "metadata": {},
   "source": [
    "The default atom invariants use connectivity information similar to those used for the well known ECFP family of fingerprints. Feature-based invariants, similar to those used for the FCFP fingerprints, can also be used. The feature definitions used are defined in the section Feature Definitions Used in the Morgan Fingerprints. At times this can lead to quite different similarity scores:"
   ]
  },
  {
   "cell_type": "code",
   "execution_count": 292,
   "metadata": {},
   "outputs": [
    {
     "name": "stdout",
     "output_type": "stream",
     "text": [
      "0.36363636363636365\n",
      "0.9090909090909091\n"
     ]
    }
   ],
   "source": [
    "m1 = Chem.MolFromSmiles('c1ccccn1')\n",
    "m2 = Chem.MolFromSmiles('c1ccco1')\n",
    "fp1 = AllChem.GetMorganFingerprint(m1,2)\n",
    "fp2 = AllChem.GetMorganFingerprint(m2,2)\n",
    "ffp1 = AllChem.GetMorganFingerprint(m1,2,useFeatures=True)\n",
    "ffp2 = AllChem.GetMorganFingerprint(m2,2,useFeatures=True)\n",
    "print( DataStructs.DiceSimilarity(fp1,fp2) )\n",
    "print( DataStructs.DiceSimilarity(ffp1,ffp2) )"
   ]
  },
  {
   "cell_type": "markdown",
   "metadata": {},
   "source": [
    "When comparing the ECFP/FCFP fingerprints and the Morgan fingerprints generated by the RDKit, remember that the 4 in ECFP4 corresponds to the diameter of the atom environments considered, while the Morgan fingerprints take a radius parameter. So the examples above, with radius=2, are roughly equivalent to ECFP4 and FCFP4.\n",
    "\n",
    "The user can also provide their own atom invariants using the optional invariants argument to `rdkit.Chem.rdMolDescriptors.GetMorganFingerprint()`. Here’s a simple example that uses a constant for the invariant; the resulting fingerprints compare the topology of molecules:"
   ]
  },
  {
   "cell_type": "code",
   "execution_count": 293,
   "metadata": {},
   "outputs": [
    {
     "name": "stdout",
     "output_type": "stream",
     "text": [
      "True\n"
     ]
    }
   ],
   "source": [
    "m1 = Chem.MolFromSmiles('Cc1ccccc1')\n",
    "m2 = Chem.MolFromSmiles('Cc1ncncn1')\n",
    "fp1 = AllChem.GetMorganFingerprint(m1,2,invariants=[1]*m1.GetNumAtoms())\n",
    "fp2 = AllChem.GetMorganFingerprint(m2,2,invariants=[1]*m2.GetNumAtoms())\n",
    "print( fp1==fp2 )"
   ]
  },
  {
   "cell_type": "markdown",
   "metadata": {},
   "source": [
    "Note that bond order is by default still considered:"
   ]
  },
  {
   "cell_type": "code",
   "execution_count": 294,
   "metadata": {},
   "outputs": [
    {
     "name": "stdout",
     "output_type": "stream",
     "text": [
      "False\n"
     ]
    }
   ],
   "source": [
    "m3 = Chem.MolFromSmiles('CC1CCCCC1')\n",
    "fp3 = AllChem.GetMorganFingerprint(m3,2,invariants=[1]*m3.GetNumAtoms())\n",
    "print( fp1==fp3 )"
   ]
  },
  {
   "cell_type": "markdown",
   "metadata": {},
   "source": [
    "But this can also be turned off:"
   ]
  },
  {
   "cell_type": "code",
   "execution_count": 295,
   "metadata": {},
   "outputs": [
    {
     "name": "stdout",
     "output_type": "stream",
     "text": [
      "True\n"
     ]
    }
   ],
   "source": [
    "fp1 = AllChem.GetMorganFingerprint(m1,2,invariants=[1]*m1.GetNumAtoms(),\n",
    "        useBondTypes=False)\n",
    "fp3 = AllChem.GetMorganFingerprint(m3,2,invariants=[1]*m3.GetNumAtoms(),\n",
    "useBondTypes=False)\n",
    "print( fp1==fp3 )"
   ]
  },
  {
   "cell_type": "markdown",
   "metadata": {
    "jp-MarkdownHeadingCollapsed": true,
    "tags": []
   },
   "source": [
    "### Explaining bits from Morgan Fingerprints"
   ]
  },
  {
   "cell_type": "markdown",
   "metadata": {},
   "source": [
    "Information is available about the atoms that contribute to particular bits in the Morgan fingerprint via the bitInfo argument. The dictionary provided is populated with one entry per bit set in the fingerprint, the keys are the bit ids, the values are lists of (atom index, radius) tuples."
   ]
  },
  {
   "cell_type": "code",
   "execution_count": 296,
   "metadata": {},
   "outputs": [
    {
     "name": "stdout",
     "output_type": "stream",
     "text": [
      "16\n",
      "16\n",
      "((1, 1), (2, 1))\n",
      "((5, 2),)\n"
     ]
    }
   ],
   "source": [
    "m = Chem.MolFromSmiles('c1cccnc1C')\n",
    "info={}\n",
    "fp = AllChem.GetMorganFingerprint(m,2,bitInfo=info)\n",
    "print( len(fp.GetNonzeroElements()) )\n",
    "print( len(info) )\n",
    "print( info[98513984] )\n",
    "print( info[4048591891] )"
   ]
  },
  {
   "cell_type": "markdown",
   "metadata": {},
   "source": [
    "Interpreting the above: bit 98513984 is set twice: once by atom 1 and once by atom 2, each at radius 1. Bit 4048591891 is set once by atom 5 at radius 2.\n",
    "\n",
    "Focusing on bit 4048591891, we can extract the submolecule consisting of all atoms within a radius of 2 of atom 5:"
   ]
  },
  {
   "cell_type": "code",
   "execution_count": 297,
   "metadata": {},
   "outputs": [
    {
     "name": "stdout",
     "output_type": "stream",
     "text": [
      "6\n",
      "{0: 0, 1: 1, 3: 2, 4: 3, 5: 4, 6: 5}\n"
     ]
    }
   ],
   "source": [
    "env = Chem.FindAtomEnvironmentOfRadiusN(m,2,5)\n",
    "amap={}\n",
    "submol=Chem.PathToSubmol(m,env,atomMap=amap)\n",
    "print( submol.GetNumAtoms() )\n",
    "print( amap )"
   ]
  },
  {
   "cell_type": "markdown",
   "metadata": {},
   "source": [
    "And then “explain” the bit by generating SMILES for that submolecule:"
   ]
  },
  {
   "cell_type": "code",
   "execution_count": 298,
   "metadata": {},
   "outputs": [
    {
     "name": "stdout",
     "output_type": "stream",
     "text": [
      "ccc(C)nc\n"
     ]
    }
   ],
   "source": [
    "print( Chem.MolToSmiles(submol) )"
   ]
  },
  {
   "cell_type": "markdown",
   "metadata": {},
   "source": [
    "This is more useful when the SMILES is rooted at the central atom:"
   ]
  },
  {
   "cell_type": "code",
   "execution_count": 299,
   "metadata": {},
   "outputs": [
    {
     "name": "stdout",
     "output_type": "stream",
     "text": [
      "c(cc)(nc)C\n"
     ]
    }
   ],
   "source": [
    "print( Chem.MolToSmiles(submol,rootedAtAtom=amap[5],canonical=False) )"
   ]
  },
  {
   "cell_type": "markdown",
   "metadata": {},
   "source": [
    "An alternate (and faster, particularly for large numbers of molecules) approach to do the same thing, using the function `rdkit.Chem.MolFragmentToSmiles()` :"
   ]
  },
  {
   "cell_type": "code",
   "execution_count": 300,
   "metadata": {},
   "outputs": [
    {
     "name": "stdout",
     "output_type": "stream",
     "text": [
      "c(C)(cc)nc\n"
     ]
    }
   ],
   "source": [
    "atoms=set()\n",
    "for bidx in env:\n",
    "    atoms.add(m.GetBondWithIdx(bidx).GetBeginAtomIdx())\n",
    "    atoms.add(m.GetBondWithIdx(bidx).GetEndAtomIdx())\n",
    "print( Chem.MolFragmentToSmiles(m,atomsToUse=list(atoms),bondsToUse=env,rootedAtAtom=5) )"
   ]
  },
  {
   "cell_type": "markdown",
   "metadata": {
    "jp-MarkdownHeadingCollapsed": true,
    "tags": []
   },
   "source": [
    "### Generating images of fingerprint bits"
   ]
  },
  {
   "cell_type": "markdown",
   "metadata": {},
   "source": [
    "For the Morgan and RDKit fingerprint types, it’s possible to generate images of the atom environment that defines the bit using the functions `rdkit.Chem.Draw.DrawMorganBit()` and `rdkit.Chem.Draw.DrawRDKitBit()`"
   ]
  },
  {
   "cell_type": "code",
   "execution_count": 301,
   "metadata": {},
   "outputs": [
    {
     "name": "stdout",
     "output_type": "stream",
     "text": [
      "((6, 2),)\n",
      "[[0, 1, 9, 5, 4], [2, 3, 4, 9, 5]]\n"
     ]
    }
   ],
   "source": [
    "from rdkit.Chem import Draw\n",
    "mol = Chem.MolFromSmiles('c1ccccc1CC1CC1')\n",
    "bi = {}\n",
    "fp = AllChem.GetMorganFingerprintAsBitVect(mol, radius=2, bitInfo=bi)\n",
    "print( bi[872] )\n",
    "mfp2_svg = Draw.DrawMorganBit(mol, 872, bi, useSVG=True)\n",
    "rdkbi = {}\n",
    "rdkfp = Chem.RDKFingerprint(mol, maxPath=5, bitInfo=rdkbi)\n",
    "print( rdkbi[1553] )\n",
    "rdk_svg = Draw.DrawRDKitBit(mol, 1553, rdkbi, useSVG=True)"
   ]
  },
  {
   "cell_type": "markdown",
   "metadata": {},
   "source": [
    "The default highlight colors for the Morgan bits indicate:\n",
    "\n",
    "   * blue: the central atom in the environment\n",
    "\n",
    "   * yellow: aromatic atoms\n",
    "\n",
    "   * gray: aliphatic ring atoms\n",
    "\n",
    "The default highlight colors for the RDKit bits indicate:\n",
    "\n",
    "   * yellow: aromatic atoms\n",
    "\n",
    "Note that in cases where the same bit is set by multiple atoms in the molecule (as for bit 1553 for the RDKit fingerprint in the example above), the drawing functions will display the first example. You can change this by specifying which example to show:"
   ]
  },
  {
   "cell_type": "code",
   "execution_count": 302,
   "metadata": {},
   "outputs": [],
   "source": [
    "rdk_svg = Draw.DrawRDKitBit(mol, 1553, rdkbi, whichExample=1, useSVG=True)"
   ]
  },
  {
   "cell_type": "markdown",
   "metadata": {},
   "source": [
    "Producing this image:"
   ]
  },
  {
   "cell_type": "markdown",
   "metadata": {
    "jp-MarkdownHeadingCollapsed": true,
    "tags": []
   },
   "source": [
    "### Picking Diverse Molecules Using Fingerprints"
   ]
  },
  {
   "cell_type": "markdown",
   "metadata": {},
   "source": [
    "A common task is to pick a small subset of diverse molecules from a larger set. The RDKit provides a number of approaches for doing this in the `rdkit.SimDivFilters` module. The most efficient of these uses the MaxMin algorithm. Here’s an example:\n",
    "\n",
    "Start by reading in a set of molecules and generating Morgan fingerprints:"
   ]
  },
  {
   "cell_type": "code",
   "execution_count": 303,
   "metadata": {},
   "outputs": [],
   "source": [
    "from rdkit import Chem\n",
    "from rdkit.Chem.rdMolDescriptors import GetMorganFingerprint\n",
    "from rdkit import DataStructs\n",
    "from rdkit.SimDivFilters.rdSimDivPickers import MaxMinPicker\n",
    "with Chem.SDMolSupplier('data/actives_5ht3.sdf') as suppl:\n",
    "    ms = [x for x in suppl if x is not None]\n",
    "fps = [GetMorganFingerprint(x,3) for x in ms]\n",
    "nfps = len(fps)"
   ]
  },
  {
   "cell_type": "markdown",
   "metadata": {},
   "source": [
    "The algorithm requires a function to calculate distances between objects, we’ll do that using `DiceSimilarity`:"
   ]
  },
  {
   "cell_type": "code",
   "execution_count": 304,
   "metadata": {},
   "outputs": [],
   "source": [
    "def distij(i,j,fps=fps):\n",
    "    return 1-DataStructs.DiceSimilarity(fps[i],fps[j])"
   ]
  },
  {
   "cell_type": "markdown",
   "metadata": {},
   "source": [
    "Now create a picker and grab a set of 10 diverse molecules:"
   ]
  },
  {
   "cell_type": "code",
   "execution_count": 305,
   "metadata": {},
   "outputs": [
    {
     "name": "stdout",
     "output_type": "stream",
     "text": [
      "[93, 109, 154, 6, 95, 135, 151, 61, 137, 139]\n"
     ]
    }
   ],
   "source": [
    "picker = MaxMinPicker()\n",
    "pickIndices = picker.LazyPick(distij,nfps,10,seed=23)\n",
    "print( list(pickIndices) )"
   ]
  },
  {
   "cell_type": "markdown",
   "metadata": {},
   "source": [
    "Note that the picker just returns indices of the fingerprints; we can get the molecules themselves as follows:"
   ]
  },
  {
   "cell_type": "code",
   "execution_count": 306,
   "metadata": {},
   "outputs": [],
   "source": [
    "picks = [ms[x] for x in pickIndices]"
   ]
  },
  {
   "cell_type": "markdown",
   "metadata": {
    "jp-MarkdownHeadingCollapsed": true,
    "tags": []
   },
   "source": [
    "### Generating Similarity Maps Using Fingerprints"
   ]
  },
  {
   "cell_type": "markdown",
   "metadata": {},
   "source": [
    "Similarity maps are a way to visualize the atomic contributions to the similarity between a molecule and a reference molecule. The methodology is described in Ref. 17 . They are in the `rdkit.Chem.Draw.SimilarityMaps` module :\n",
    "\n",
    "Start by creating two molecules:"
   ]
  },
  {
   "cell_type": "code",
   "execution_count": 307,
   "metadata": {},
   "outputs": [],
   "source": [
    "from rdkit import Chem\n",
    "mol = Chem.MolFromSmiles('COc1cccc2cc(C(=O)NCCCCN3CCN(c4cccc5nccnc54)CC3)oc21')\n",
    "refmol = Chem.MolFromSmiles('CCCN(CCCCN1CCN(c2ccccc2OC)CC1)Cc1ccc2ccccc2c1')"
   ]
  },
  {
   "cell_type": "markdown",
   "metadata": {},
   "source": [
    "The SimilarityMaps module supports three kind of fingerprints: atom pairs, topological torsions and Morgan fingerprints."
   ]
  },
  {
   "cell_type": "code",
   "execution_count": 308,
   "metadata": {},
   "outputs": [],
   "source": [
    "from rdkit.Chem import Draw\n",
    "from rdkit.Chem.Draw import SimilarityMaps\n",
    "fp = SimilarityMaps.GetAPFingerprint(mol, fpType='normal')\n",
    "fp = SimilarityMaps.GetTTFingerprint(mol, fpType='normal')\n",
    "fp = SimilarityMaps.GetMorganFingerprint(mol, fpType='bv')"
   ]
  },
  {
   "cell_type": "markdown",
   "metadata": {},
   "source": [
    "The types of atom pairs and torsions are normal (default), hashed and bit vector (bv). The types of the Morgan fingerprint are bit vector (bv, default) and count vector (count).\n",
    "\n",
    "The function generating a similarity map for two fingerprints requires the specification of the fingerprint function and optionally the similarity metric. The default for the latter is the Dice similarity. Using all the default arguments of the Morgan fingerprint function, the similarity map can be generated like this:"
   ]
  },
  {
   "cell_type": "code",
   "execution_count": 309,
   "metadata": {},
   "outputs": [
    {
     "data": {
      "image/png": "[encoded data removed]",
      "text/plain": [
       "<Figure size 180x180 with 1 Axes>"
      ]
     },
     "metadata": {
      "needs_background": "light"
     },
     "output_type": "display_data"
    }
   ],
   "source": [
    "fig, maxweight = SimilarityMaps.GetSimilarityMapForFingerprint(refmol, mol, SimilarityMaps.GetMorganFingerprint)"
   ]
  },
  {
   "cell_type": "markdown",
   "metadata": {},
   "source": [
    "For a different type of Morgan (e.g. count) and radius = 1 instead of 2, as well as a different similarity metric (e.g. Tanimoto), the call becomes:"
   ]
  },
  {
   "cell_type": "code",
   "execution_count": 310,
   "metadata": {},
   "outputs": [
    {
     "data": {
      "image/png": "[encoded data removed]",
      "text/plain": [
       "<Figure size 180x180 with 1 Axes>"
      ]
     },
     "metadata": {
      "needs_background": "light"
     },
     "output_type": "display_data"
    }
   ],
   "source": [
    "from rdkit import DataStructs\n",
    "fig, maxweight = SimilarityMaps.GetSimilarityMapForFingerprint(refmol, mol, lambda m,idx: SimilarityMaps.GetMorganFingerprint(m, atomId=idx, radius=1, fpType='count'), metric=DataStructs.TanimotoSimilarity)"
   ]
  },
  {
   "cell_type": "markdown",
   "metadata": {},
   "source": [
    "The convenience function GetSimilarityMapForFingerprint involves the normalisation of the atomic weights such that the maximum absolute weight is 1. Therefore, the function outputs the maximum weight that was found when creating the map."
   ]
  },
  {
   "cell_type": "code",
   "execution_count": 311,
   "metadata": {},
   "outputs": [
    {
     "name": "stdout",
     "output_type": "stream",
     "text": [
      "0.05747126436781608\n"
     ]
    }
   ],
   "source": [
    "print( maxweight )"
   ]
  },
  {
   "cell_type": "markdown",
   "metadata": {},
   "source": [
    "If one does not want the normalisation step, the map can be created like:"
   ]
  },
  {
   "cell_type": "code",
   "execution_count": 312,
   "metadata": {},
   "outputs": [
    {
     "name": "stdout",
     "output_type": "stream",
     "text": [
      "['0.05 ', '0.07 ', '0.05 ', '0.08 ', '0.05 ', '0.06 ', '0.03 ', '0.04 ', '-0.01 ', '-0.04 ', '-0.03 ', '-0.05 ', '0.01 ', '0.03 ', '0.07 ', '0.10 ', '0.12 ', '0.11 ', '0.09 ', '0.10 ', '0.09 ', '0.06 ', '0.03 ', '0.02 ', '-0.01 ', '-0.05 ', '0.00 ', '0.00 ', '-0.03 ', '0.02 ', '0.09 ', '0.11 ', '-0.04 ', '0.04 ']\n"
     ]
    },
    {
     "data": {
      "image/png": "[encoded data removed]",
      "text/plain": [
       "<Figure size 180x180 with 1 Axes>"
      ]
     },
     "metadata": {
      "needs_background": "light"
     },
     "output_type": "display_data"
    }
   ],
   "source": [
    "weights = SimilarityMaps.GetAtomicWeightsForFingerprint(refmol, mol, SimilarityMaps.GetMorganFingerprint)\n",
    "\n",
    "print([\"%.2f \" % w for w in weights])\n",
    "\n",
    "fig = SimilarityMaps.GetSimilarityMapFromWeights(mol, weights)"
   ]
  },
  {
   "cell_type": "markdown",
   "metadata": {
    "jp-MarkdownHeadingCollapsed": true,
    "tags": []
   },
   "source": [
    "### Descriptor Calculation"
   ]
  },
  {
   "cell_type": "markdown",
   "metadata": {},
   "source": [
    "A variety of descriptors are available within the RDKit. The complete list is provided in List of Available Descriptors.\n",
    "\n",
    "Most of the descriptors are straightforward to use from Python via the centralized `rdkit.Chem.Descriptors` module :"
   ]
  },
  {
   "cell_type": "code",
   "execution_count": 313,
   "metadata": {},
   "outputs": [
    {
     "name": "stdout",
     "output_type": "stream",
     "text": [
      "37.3\n",
      "1.3848\n"
     ]
    }
   ],
   "source": [
    "from rdkit.Chem import Descriptors\n",
    "m = Chem.MolFromSmiles('c1ccccc1C(=O)O')\n",
    "print( Descriptors.TPSA(m) )\n",
    "print( Descriptors.MolLogP(m) )"
   ]
  },
  {
   "cell_type": "markdown",
   "metadata": {},
   "source": [
    "Partial charges are handled a bit differently:"
   ]
  },
  {
   "cell_type": "code",
   "execution_count": 314,
   "metadata": {},
   "outputs": [
    {
     "name": "stdout",
     "output_type": "stream",
     "text": [
      "-0.04769375004654255\n"
     ]
    }
   ],
   "source": [
    "m = Chem.MolFromSmiles('c1ccccc1C(=O)O')\n",
    "AllChem.ComputeGasteigerCharges(m)\n",
    "print( m.GetAtomWithIdx(0).GetDoubleProp('_GasteigerCharge') )"
   ]
  },
  {
   "cell_type": "markdown",
   "metadata": {
    "jp-MarkdownHeadingCollapsed": true,
    "tags": []
   },
   "source": [
    "### Visualization of Descriptors"
   ]
  },
  {
   "cell_type": "markdown",
   "metadata": {},
   "source": [
    "Similarity maps can be used to visualize descriptors that can be divided into atomic contributions.\n",
    "\n",
    "The Gasteiger partial charges can be visualized as (using a different color scheme):"
   ]
  },
  {
   "cell_type": "code",
   "execution_count": 315,
   "metadata": {},
   "outputs": [
    {
     "data": {
      "image/png": "[encoded data removed]",
      "text/plain": [
       "<Figure size 180x180 with 1 Axes>"
      ]
     },
     "metadata": {
      "needs_background": "light"
     },
     "output_type": "display_data"
    }
   ],
   "source": [
    "from rdkit.Chem.Draw import SimilarityMaps\n",
    "mol = Chem.MolFromSmiles('COc1cccc2cc(C(=O)NCCCCN3CCN(c4cccc5nccnc54)CC3)oc21')\n",
    "AllChem.ComputeGasteigerCharges(mol)\n",
    "contribs = [mol.GetAtomWithIdx(i).GetDoubleProp('_GasteigerCharge') for i in range(mol.GetNumAtoms())]\n",
    "fig = SimilarityMaps.GetSimilarityMapFromWeights(mol, contribs, colorMap='jet', contourLines=10)"
   ]
  },
  {
   "cell_type": "markdown",
   "metadata": {},
   "source": [
    "Or for the Crippen contributions to logP:"
   ]
  },
  {
   "cell_type": "code",
   "execution_count": 316,
   "metadata": {},
   "outputs": [
    {
     "data": {
      "image/png": "[encoded data removed]",
      "text/plain": [
       "<Figure size 180x180 with 1 Axes>"
      ]
     },
     "metadata": {
      "needs_background": "light"
     },
     "output_type": "display_data"
    }
   ],
   "source": [
    "from rdkit.Chem import rdMolDescriptors\n",
    "contribs = rdMolDescriptors._CalcCrippenContribs(mol)\n",
    "fig = SimilarityMaps.GetSimilarityMapFromWeights(mol,[x for x,y in contribs], colorMap='jet', contourLines=10)"
   ]
  },
  {
   "cell_type": "markdown",
   "metadata": {
    "jp-MarkdownHeadingCollapsed": true,
    "tags": []
   },
   "source": [
    "### Chemical Reactions"
   ]
  },
  {
   "cell_type": "markdown",
   "metadata": {},
   "source": [
    "The RDKit also supports applying chemical reactions to sets of molecules. One way of constructing chemical reactions is to use a SMARTS-based language similar to Daylight’s Reaction SMILES:"
   ]
  },
  {
   "cell_type": "code",
   "execution_count": 317,
   "metadata": {},
   "outputs": [
    {
     "name": "stdout",
     "output_type": "stream",
     "text": [
      "<rdkit.Chem.rdChemReactions.ChemicalReaction object at 0x7f28eeff2760>\n",
      "1\n",
      "1\n",
      "CNC(C)=O\n",
      "2\n",
      "CNC(=O)OCCC(=O)O\n",
      "CNC(=O)CCOC(=O)O\n"
     ]
    }
   ],
   "source": [
    "rxn = AllChem.ReactionFromSmarts('[C:1](=[O:2])-[OD1].[N!H0:3]>>[C:1](=[O:2])[N:3]')\n",
    "print( rxn )\n",
    "rxn.GetNumProductTemplates()\n",
    "ps = rxn.RunReactants((Chem.MolFromSmiles('CC(=O)O'),Chem.MolFromSmiles('NC')))\n",
    "print( len(ps) ) # one entry for each possible set of products\n",
    "print( len(ps[0]) ) # each entry contains one molecule for each product\n",
    "\n",
    "print( Chem.MolToSmiles(ps[0][0]) )\n",
    "ps = rxn.RunReactants((Chem.MolFromSmiles('C(COC(=O)O)C(=O)O'),Chem.MolFromSmiles('NC')))\n",
    "print( len(ps) )\n",
    "print( Chem.MolToSmiles(ps[0][0]) )\n",
    "print( Chem.MolToSmiles(ps[1][0]) )"
   ]
  },
  {
   "cell_type": "markdown",
   "metadata": {},
   "source": [
    "Reactions can also be built from MDL rxn files:"
   ]
  },
  {
   "cell_type": "code",
   "execution_count": 318,
   "metadata": {},
   "outputs": [
    {
     "name": "stdout",
     "output_type": "stream",
     "text": [
      "2\n",
      "1\n",
      "1\n",
      "CNC(C)=O\n"
     ]
    }
   ],
   "source": [
    "rxn = AllChem.ReactionFromRxnFile('data/AmideBond.rxn')\n",
    "print( rxn.GetNumReactantTemplates() )\n",
    "print( rxn.GetNumProductTemplates() )\n",
    "ps = rxn.RunReactants((Chem.MolFromSmiles('CC(=O)O'), Chem.MolFromSmiles('NC')))\n",
    "print( len(ps) )\n",
    "print( Chem.MolToSmiles(ps[0][0]) )"
   ]
  },
  {
   "cell_type": "markdown",
   "metadata": {},
   "source": [
    "It is, of course, possible to do reactions more complex than amide bond formation:"
   ]
  },
  {
   "cell_type": "code",
   "execution_count": 319,
   "metadata": {},
   "outputs": [
    {
     "name": "stdout",
     "output_type": "stream",
     "text": [
      "NC1=CCCC(O)C1\n"
     ]
    }
   ],
   "source": [
    "rxn = AllChem.ReactionFromSmarts('[C:1]=[C:2].[C:3]=[*:4][*:5]=[C:6]>>[C:1]1[C:2][C:3][*:4]=[*:5][C:6]1')\n",
    "ps = rxn.RunReactants((Chem.MolFromSmiles('OC=C'), Chem.MolFromSmiles('C=CC(N)=C')))\n",
    "print( Chem.MolToSmiles(ps[0][0]) )"
   ]
  },
  {
   "cell_type": "markdown",
   "metadata": {},
   "source": [
    "Note in this case that there are multiple mappings of the reactants onto the templates, so we have multiple product sets:"
   ]
  },
  {
   "cell_type": "code",
   "execution_count": 320,
   "metadata": {},
   "outputs": [
    {
     "name": "stdout",
     "output_type": "stream",
     "text": [
      "4\n"
     ]
    }
   ],
   "source": [
    "print(len(ps))"
   ]
  },
  {
   "cell_type": "markdown",
   "metadata": {},
   "source": [
    "You can use canonical smiles and a python dictionary to get the unique products:"
   ]
  },
  {
   "cell_type": "code",
   "execution_count": 321,
   "metadata": {},
   "outputs": [
    {
     "name": "stdout",
     "output_type": "stream",
     "text": [
      "['NC1=CCC(O)CC1', 'NC1=CCCC(O)C1']\n"
     ]
    }
   ],
   "source": [
    "uniqps = {}\n",
    "for p in ps:\n",
    "    smi = Chem.MolToSmiles(p[0])\n",
    "    uniqps[smi] = p[0]\n",
    "print( sorted(uniqps.keys()) )"
   ]
  },
  {
   "cell_type": "markdown",
   "metadata": {},
   "source": [
    "Note that the molecules that are produced by the chemical reaction processing code are not sanitized, as this artificial reaction demonstrates:"
   ]
  },
  {
   "cell_type": "code",
   "execution_count": 322,
   "metadata": {},
   "outputs": [
    {
     "name": "stdout",
     "output_type": "stream",
     "text": [
      "C1=CC=CC=C1\n",
      "SANITIZE_NONE\n",
      "c1ccccc1\n"
     ]
    }
   ],
   "source": [
    "rxn = AllChem.ReactionFromSmarts('[C:1]=[C:2][C:3]=[C:4].[C:5]=[C:6]>>[C:1]1=[C:2][C:3]=[C:4][C:5]=[C:6]1')\n",
    "ps = rxn.RunReactants((Chem.MolFromSmiles('C=CC=C'), Chem.MolFromSmiles('C=C')))\n",
    "print( Chem.MolToSmiles(ps[0][0]) )\n",
    "p0 = ps[0][0]\n",
    "print( Chem.SanitizeMol(p0) )\n",
    "print( Chem.MolToSmiles(p0) )"
   ]
  },
  {
   "cell_type": "markdown",
   "metadata": {
    "jp-MarkdownHeadingCollapsed": true,
    "tags": []
   },
   "source": [
    "### Drawing Chemical Reactions"
   ]
  },
  {
   "cell_type": "markdown",
   "metadata": {},
   "source": [
    "The RDKit’s MolDraw2D-based rendering can also handle chemical reactions."
   ]
  },
  {
   "cell_type": "code",
   "execution_count": 323,
   "metadata": {},
   "outputs": [
    {
     "data": {
      "text/plain": [
       "24318"
      ]
     },
     "execution_count": 323,
     "metadata": {},
     "output_type": "execute_result"
    }
   ],
   "source": [
    "from rdkit.Chem import Draw\n",
    "rxn = AllChem.ReactionFromSmarts('[cH:5]1[cH:6][c:7]2[cH:8][n:9][cH:10][cH:11][c:12]2[c:3]([cH:4]1)[C:2](=[O:1])O.[N-:13]=[N+:14]=[N-:15]>C(Cl)Cl.C(=O)(C(=O)Cl)Cl>[cH:5]1[cH:6][c:7]2[cH:8][n:9][cH:10][cH:11][c:12]2[c:3]([cH:4]1)[C:2](=[O:1])[N:13]=[N+:14]=[N-:15]',useSmiles=True)\n",
    "d2d = Draw.MolDraw2DCairo(800,300)\n",
    "d2d.DrawReaction(rxn)\n",
    "png = d2d.GetDrawingText()\n",
    "open('./images/reaction1.o.png','wb+').write(png) "
   ]
  },
  {
   "cell_type": "markdown",
   "metadata": {},
   "source": [
    "There’s another drawing mode which leaves out the atom map information but which highlights which of the reactants atoms in the products come from:\n",
    "\n"
   ]
  },
  {
   "cell_type": "code",
   "execution_count": 324,
   "metadata": {},
   "outputs": [
    {
     "data": {
      "text/plain": [
       "24900"
      ]
     },
     "execution_count": 324,
     "metadata": {},
     "output_type": "execute_result"
    }
   ],
   "source": [
    "d2d = Draw.MolDraw2DCairo(800,300)\n",
    "d2d.DrawReaction(rxn,highlightByReactant=True)\n",
    "png = d2d.GetDrawingText()\n",
    "open('./images/reaction1_highlight.o.png','wb+').write(png)    "
   ]
  },
  {
   "cell_type": "markdown",
   "metadata": {},
   "source": [
    "As of the 2020.09 release, PNG images of reactions include metadata allowing the reaction to be reconstructed:"
   ]
  },
  {
   "cell_type": "code",
   "execution_count": 325,
   "metadata": {},
   "outputs": [
    {
     "name": "stdout",
     "output_type": "stream",
     "text": [
      "[#6H:5]1:[#6H:6]:[#6:7]2:[#6H:8]:[#7:9]:[#6H:10]:[#6H:11]:[#6:12]:2:[#6:3](:[#6H:4]:1)-[#6:2](=[#8:1])-[#8].[#7-:13]=[#7+:14]=[#7-:15]>[#6](-[#17])-[#17].[#6](=[#8])(-[#6](=[#8])-[#17])-[#17]>[#6H:5]1:[#6H:6]:[#6:7]2:[#6H:8]:[#7:9]:[#6H:10]:[#6H:11]:[#6:12]:2:[#6:3](:[#6H:4]:1)-[#6:2](=[#8:1])-[#7:13]=[#7+:14]=[#7-:15]\n"
     ]
    }
   ],
   "source": [
    "newRxn = AllChem.ReactionFromPNGString(png)\n",
    "print( AllChem.ReactionToSmarts(newRxn) )"
   ]
  },
  {
   "cell_type": "markdown",
   "metadata": {},
   "source": [
    "### Advanced Reaction Functionality"
   ]
  },
  {
   "cell_type": "markdown",
   "metadata": {
    "jp-MarkdownHeadingCollapsed": true,
    "tags": []
   },
   "source": [
    "#### Protecting Atoms"
   ]
  },
  {
   "cell_type": "markdown",
   "metadata": {},
   "source": [
    "Sometimes, particularly when working with rxn files, it is difficult to express a reaction exactly enough to not end up with extraneous products. The RDKit provides a method of “protecting” atoms to disallow them from taking part in reactions.\n",
    "\n",
    "This can be demonstrated re-using the amide-bond formation reaction used above. The query for amines isn’t specific enough, so it matches any nitrogen that has at least one H attached. So if we apply the reaction to a molecule that already has an amide bond, the amide N is also treated as a reaction site:"
   ]
  },
  {
   "cell_type": "code",
   "execution_count": 326,
   "metadata": {},
   "outputs": [
    {
     "name": "stdout",
     "output_type": "stream",
     "text": [
      "2\n",
      "CC(=O)N(CCN)C(C)=O\n",
      "CC(=O)NCCNC(C)=O\n"
     ]
    }
   ],
   "source": [
    "rxn = AllChem.ReactionFromRxnFile('data/AmideBond.rxn')\n",
    "acid = Chem.MolFromSmiles('CC(=O)O')\n",
    "base = Chem.MolFromSmiles('CC(=O)NCCN')\n",
    "ps = rxn.RunReactants((acid,base))\n",
    "print( len(ps) )\n",
    "print( Chem.MolToSmiles(ps[0][0]) )\n",
    "print( Chem.MolToSmiles(ps[1][0]) )"
   ]
  },
  {
   "cell_type": "markdown",
   "metadata": {},
   "source": [
    "The first product corresponds to the reaction at the amide N.\n",
    "\n",
    "We can prevent this from happening by protecting all amide Ns. Here we do it with a substructure query that matches amides and thioamides and then set the “_protected” property on matching atoms:"
   ]
  },
  {
   "cell_type": "code",
   "execution_count": 327,
   "metadata": {},
   "outputs": [],
   "source": [
    "amidep = Chem.MolFromSmarts('[N;$(NC=[O,S])]')\n",
    "for match in base.GetSubstructMatches(amidep):\n",
    "    base.GetAtomWithIdx(match[0]).SetProp('_protected','1')"
   ]
  },
  {
   "cell_type": "markdown",
   "metadata": {},
   "source": [
    "Now the reaction only generates a single product:"
   ]
  },
  {
   "cell_type": "code",
   "execution_count": 328,
   "metadata": {},
   "outputs": [
    {
     "name": "stdout",
     "output_type": "stream",
     "text": [
      "1\n",
      "CC(=O)NCCNC(C)=O\n"
     ]
    }
   ],
   "source": [
    "ps = rxn.RunReactants((acid,base))\n",
    "print( len(ps) )\n",
    "print( Chem.MolToSmiles(ps[0][0]) )"
   ]
  },
  {
   "cell_type": "markdown",
   "metadata": {
    "jp-MarkdownHeadingCollapsed": true,
    "tags": []
   },
   "source": [
    "### Recap Implementation"
   ]
  },
  {
   "cell_type": "markdown",
   "metadata": {},
   "source": [
    "Associated with the chemical reaction functionality is an implementation of the Recap algorithm. Recap uses a set of chemical transformations mimicking common reactions carried out in the lab in order to decompose a molecule into a series of reasonable fragments.\n",
    "\n",
    "The RDKit `rdkit.Chem.Recap` implementation keeps track of the hierarchy of transformations that were applied:"
   ]
  },
  {
   "cell_type": "code",
   "execution_count": 329,
   "metadata": {},
   "outputs": [
    {
     "name": "stdout",
     "output_type": "stream",
     "text": [
      "<class 'rdkit.Chem.Recap.RecapHierarchyNode'>\n"
     ]
    }
   ],
   "source": [
    "from rdkit import Chem\n",
    "from rdkit.Chem import Recap\n",
    "m = Chem.MolFromSmiles('c1ccccc1OCCOC(=O)CC')\n",
    "hierarch = Recap.RecapDecompose(m)\n",
    "print( type(hierarch) )"
   ]
  },
  {
   "cell_type": "markdown",
   "metadata": {},
   "source": [
    "The hierarchy is rooted at the original molecule:"
   ]
  },
  {
   "cell_type": "code",
   "execution_count": 330,
   "metadata": {},
   "outputs": [
    {
     "name": "stdout",
     "output_type": "stream",
     "text": [
      "CCC(=O)OCCOc1ccccc1\n"
     ]
    }
   ],
   "source": [
    "print( hierarch.smiles )"
   ]
  },
  {
   "cell_type": "markdown",
   "metadata": {},
   "source": [
    "and each node tracks its children using a dictionary keyed by SMILES:"
   ]
  },
  {
   "cell_type": "code",
   "execution_count": 331,
   "metadata": {},
   "outputs": [
    {
     "name": "stdout",
     "output_type": "stream",
     "text": [
      "['*C(=O)CC', '*CCOC(=O)CC', '*CCOc1ccccc1', '*OCCOc1ccccc1', '*c1ccccc1']\n"
     ]
    }
   ],
   "source": [
    "ks=hierarch.children.keys()\n",
    "print( sorted(ks) )"
   ]
  },
  {
   "cell_type": "markdown",
   "metadata": {},
   "source": [
    "The nodes at the bottom of the hierarchy (the leaf nodes) are easily accessible, also as a dictionary keyed by SMILES:"
   ]
  },
  {
   "cell_type": "code",
   "execution_count": 332,
   "metadata": {},
   "outputs": [
    {
     "name": "stdout",
     "output_type": "stream",
     "text": [
      "['*C(=O)CC', '*CCO*', '*CCOc1ccccc1', '*c1ccccc1']\n"
     ]
    }
   ],
   "source": [
    "ks=hierarch.GetLeaves().keys()\n",
    "ks=sorted(ks)\n",
    "print( ks )"
   ]
  },
  {
   "cell_type": "markdown",
   "metadata": {},
   "source": [
    "Notice that dummy atoms are used to mark points where the molecule was fragmented.\n",
    "\n",
    "The nodes themselves have associated molecules:"
   ]
  },
  {
   "cell_type": "code",
   "execution_count": 333,
   "metadata": {},
   "outputs": [
    {
     "name": "stdout",
     "output_type": "stream",
     "text": [
      "*C(=O)CC\n"
     ]
    }
   ],
   "source": [
    "leaf = hierarch.GetLeaves()[ks[0]]\n",
    "print( Chem.MolToSmiles(leaf.mol) )"
   ]
  },
  {
   "cell_type": "markdown",
   "metadata": {
    "jp-MarkdownHeadingCollapsed": true,
    "tags": []
   },
   "source": [
    "### BRICS Implementation"
   ]
  },
  {
   "cell_type": "markdown",
   "metadata": {},
   "source": [
    "The RDKit also provides an implementation of the BRICS algorithm. BRICS provides another method for fragmenting molecules along synthetically accessible bonds:"
   ]
  },
  {
   "cell_type": "code",
   "execution_count": 334,
   "metadata": {},
   "outputs": [
    {
     "name": "stdout",
     "output_type": "stream",
     "text": [
      "['[14*]c1nc(N)nc2[nH]cnc12', '[3*]O[3*]', '[4*]CC(=O)C(C)C']\n",
      "['[1*]C(=O)NN(C)C', '[14*]c1[nH]nc2c1C(=O)c1c([16*])cccc1-2', '[16*]c1ccc([16*])cc1', '[3*]OC', '[5*]N[5*]']\n"
     ]
    }
   ],
   "source": [
    "from rdkit.Chem import BRICS\n",
    "with Chem.SDMolSupplier('data/cdk2.sdf') as cdk2mols:\n",
    "    m1 = cdk2mols[0]\n",
    "    m2 = cdk2mols[20]\n",
    "print( sorted(BRICS.BRICSDecompose(m1)) )\n",
    "print( sorted(BRICS.BRICSDecompose(m2)) )"
   ]
  },
  {
   "cell_type": "markdown",
   "metadata": {},
   "source": [
    "Notice that RDKit BRICS implementation returns the unique fragments generated from a molecule and that the dummy atoms are tagged to indicate which type of reaction applies.\n",
    "\n",
    "It’s quite easy to generate the list of all fragments for a group of molecules:"
   ]
  },
  {
   "cell_type": "code",
   "execution_count": 335,
   "metadata": {},
   "outputs": [
    {
     "name": "stdout",
     "output_type": "stream",
     "text": [
      "90\n",
      "['NS(=O)(=O)c1ccc(N/N=C2\\\\C(=O)Nc3ccc(Br)cc32)cc1', '[1*]C(=O)C(C)C', '[1*]C(=O)NN(C)C', '[1*]C(=O)NN1CC[NH+](C)CC1', '[1*]C(C)=O']\n"
     ]
    }
   ],
   "source": [
    "allfrags=set()\n",
    "with Chem.SDMolSupplier('data/cdk2.sdf') as cdk2mols:\n",
    "    for m in cdk2mols:\n",
    "        if m is None:\n",
    "            continue\n",
    "        pieces = BRICS.BRICSDecompose(m)\n",
    "        allfrags.update(pieces)\n",
    "print( len(allfrags) )\n",
    "print( sorted(allfrags)[:5] )"
   ]
  },
  {
   "cell_type": "markdown",
   "metadata": {},
   "source": [
    "The BRICS module also provides an option to apply the BRICS rules to a set of fragments to create new molecules:"
   ]
  },
  {
   "cell_type": "code",
   "execution_count": 336,
   "metadata": {},
   "outputs": [],
   "source": [
    "import random\n",
    "random.seed(127)\n",
    "fragms = [Chem.MolFromSmiles(x) for x in sorted(allfrags)]\n",
    "random.seed(0xf00d)\n",
    "ms = BRICS.BRICSBuild(fragms)"
   ]
  },
  {
   "cell_type": "markdown",
   "metadata": {},
   "source": [
    "The result is a generator object:"
   ]
  },
  {
   "cell_type": "code",
   "execution_count": 337,
   "metadata": {},
   "outputs": [
    {
     "name": "stdout",
     "output_type": "stream",
     "text": [
      "<generator object BRICSBuild at 0x7f290abb9050>\n"
     ]
    }
   ],
   "source": [
    "print( ms )"
   ]
  },
  {
   "cell_type": "markdown",
   "metadata": {},
   "source": [
    "That returns molecules on request:"
   ]
  },
  {
   "cell_type": "code",
   "execution_count": 338,
   "metadata": {},
   "outputs": [
    {
     "name": "stdout",
     "output_type": "stream",
     "text": [
      "<rdkit.Chem.rdchem.Mol object at 0x7f28f4491990>\n"
     ]
    }
   ],
   "source": [
    "prods = [next(ms) for x in range(10)]\n",
    "print( prods[0] )"
   ]
  },
  {
   "cell_type": "markdown",
   "metadata": {},
   "source": [
    "The molecules have not been sanitized, so it’s a good idea to at least update the valences before continuing:"
   ]
  },
  {
   "cell_type": "code",
   "execution_count": 339,
   "metadata": {},
   "outputs": [
    {
     "name": "stdout",
     "output_type": "stream",
     "text": [
      "CC(C)C(=O)N/C=C1\\C(=O)Nc2ccc3ncsc3c21\n",
      "CC(C)C(=O)N/C=C1\\C(=O)Nc2ccccc21\n",
      "CNC(=O)C(C)C\n"
     ]
    }
   ],
   "source": [
    "for prod in prods:\n",
    "    prod.UpdatePropertyCache(strict=False)\n",
    "print( Chem.MolToSmiles(prods[0],True) )\n",
    "print( Chem.MolToSmiles(prods[1],True) )\n",
    "print( Chem.MolToSmiles(prods[2],True) )"
   ]
  },
  {
   "cell_type": "markdown",
   "metadata": {},
   "source": [
    "By default those results come back in a random order (technically the example above will always return the same results since we seeded Python’s random number generator just before calling BRICSBuild()). If you want the results to be returned in a consistent order use the scrambleReagents argument:"
   ]
  },
  {
   "cell_type": "code",
   "execution_count": 340,
   "metadata": {},
   "outputs": [
    {
     "name": "stdout",
     "output_type": "stream",
     "text": [
      "COC(=O)C(C)C\n",
      "CC(C)C(=O)N/C=C1\\C(=O)Nc2ccc3ncsc3c21\n",
      "CC(C)C(=O)N/C=C1\\C(=O)Nc2ccccc21\n"
     ]
    }
   ],
   "source": [
    "ms = BRICS.BRICSBuild(fragms, scrambleReagents=False)\n",
    "prods = [next(ms) for x in range(10)]\n",
    "for prod in prods:\n",
    "    prod.UpdatePropertyCache(strict=False)\n",
    "print( Chem.MolToSmiles(prods[0],True) )\n",
    "print( Chem.MolToSmiles(prods[1],True) )\n",
    "print( Chem.MolToSmiles(prods[2],True) )"
   ]
  },
  {
   "cell_type": "markdown",
   "metadata": {
    "jp-MarkdownHeadingCollapsed": true,
    "tags": []
   },
   "source": [
    "### Other fragmentation approaches"
   ]
  },
  {
   "cell_type": "markdown",
   "metadata": {},
   "source": [
    "In addition to the methods described above, the RDKit provide a very flexible generic function for fragmenting molecules along user-specified bonds.\n",
    "\n",
    "Here’s a quick demonstration of using that to break all bonds between atoms in rings and atoms not in rings. We start by finding all the atom pairs:"
   ]
  },
  {
   "cell_type": "code",
   "execution_count": 341,
   "metadata": {},
   "outputs": [
    {
     "name": "stdout",
     "output_type": "stream",
     "text": [
      "((0, 1), (4, 3), (6, 5), (7, 8))\n"
     ]
    }
   ],
   "source": [
    "m = Chem.MolFromSmiles('CC1CC(O)C1CCC1CC1')\n",
    "bis = m.GetSubstructMatches(Chem.MolFromSmarts('[!R][R]'))\n",
    "print( bis )"
   ]
  },
  {
   "cell_type": "markdown",
   "metadata": {},
   "source": [
    "then we get the corresponding bond indices:"
   ]
  },
  {
   "cell_type": "code",
   "execution_count": 342,
   "metadata": {},
   "outputs": [
    {
     "name": "stdout",
     "output_type": "stream",
     "text": [
      "[0, 3, 5, 7]\n"
     ]
    }
   ],
   "source": [
    "bs = [m.GetBondBetweenAtoms(x,y).GetIdx() for x,y in bis]\n",
    "print( bs )"
   ]
  },
  {
   "cell_type": "markdown",
   "metadata": {},
   "source": [
    "then we use those bond indices as input to the fragmentation function:"
   ]
  },
  {
   "cell_type": "code",
   "execution_count": 343,
   "metadata": {},
   "outputs": [],
   "source": [
    "nm = Chem.FragmentOnBonds(m,bs)"
   ]
  },
  {
   "cell_type": "markdown",
   "metadata": {},
   "source": [
    "the output is a molecule that has dummy atoms marking the places where bonds were broken:"
   ]
  },
  {
   "cell_type": "code",
   "execution_count": 344,
   "metadata": {},
   "outputs": [
    {
     "name": "stdout",
     "output_type": "stream",
     "text": [
      "*C1CC([4*])C1[6*].[1*]C.[3*]O.[5*]CC[8*].[7*]C1CC1\n"
     ]
    }
   ],
   "source": [
    "print( Chem.MolToSmiles(nm,True) )"
   ]
  },
  {
   "cell_type": "markdown",
   "metadata": {},
   "source": [
    "By default the attachment points are labelled (using isotopes) with the index of the atom that was removed. We can also provide our own set of atom labels in the form of pairs of unsigned integers. The first value in each pair is used as the label for the dummy that replaces the bond’s begin atom, the second value in each pair is for the dummy that replaces the bond’s end atom. Here’s an example, repeating the analysis above and marking the positions where the non-ring atoms were with the label 10 and marking the positions where the ring atoms were with label 1:"
   ]
  },
  {
   "cell_type": "code",
   "execution_count": 345,
   "metadata": {},
   "outputs": [
    {
     "data": {
      "text/plain": [
       "'[1*]C.[1*]CC[1*].[1*]O.[10*]C1CC([10*])C1[10*].[10*]C1CC1'"
      ]
     },
     "execution_count": 345,
     "metadata": {},
     "output_type": "execute_result"
    }
   ],
   "source": [
    "bis = m.GetSubstructMatches(Chem.MolFromSmarts('[!R][R]'))\n",
    "bs = []\n",
    "labels=[]\n",
    "for bi in bis: \n",
    "    b = m.GetBondBetweenAtoms(bi[0],bi[1])\n",
    "    if b.GetBeginAtomIdx()==bi[0]:\n",
    "        labels.append((10,1))\n",
    "    else:\n",
    "        labels.append((1,10))\n",
    "    bs.append(b.GetIdx())\n",
    "nm = Chem.FragmentOnBonds(m,bs,dummyLabels=labels)\n",
    "Chem.MolToSmiles(nm,True)"
   ]
  },
  {
   "cell_type": "markdown",
   "metadata": {
    "jp-MarkdownHeadingCollapsed": true,
    "tags": []
   },
   "source": [
    "## Chemical Features and Pharmacophores"
   ]
  },
  {
   "cell_type": "markdown",
   "metadata": {},
   "source": [
    "### Chemical Features"
   ]
  },
  {
   "cell_type": "markdown",
   "metadata": {},
   "source": [
    "Chemical features in the RDKit are defined using a SMARTS-based feature definition language (described in detail in the RDKit book). To identify chemical features in molecules, you first must build a feature factory:"
   ]
  },
  {
   "cell_type": "code",
   "execution_count": 346,
   "metadata": {},
   "outputs": [],
   "source": [
    "from rdkit import Chem\n",
    "from rdkit.Chem import ChemicalFeatures\n",
    "from rdkit import RDConfig\n",
    "import os\n",
    "fdefName = os.path.join(RDConfig.RDDataDir,'BaseFeatures.fdef')\n",
    "factory = ChemicalFeatures.BuildFeatureFactory(fdefName)"
   ]
  },
  {
   "cell_type": "markdown",
   "metadata": {},
   "source": [
    "and then use the factory to search for features:"
   ]
  },
  {
   "cell_type": "code",
   "execution_count": 347,
   "metadata": {},
   "outputs": [
    {
     "name": "stdout",
     "output_type": "stream",
     "text": [
      "8\n"
     ]
    }
   ],
   "source": [
    "m = Chem.MolFromSmiles('OCc1ccccc1CN')\n",
    "feats = factory.GetFeaturesForMol(m)\n",
    "print( len(feats) )"
   ]
  },
  {
   "cell_type": "markdown",
   "metadata": {},
   "source": [
    "The individual features carry information about their family (e.g. donor, acceptor, etc.), type (a more detailed description), and the atom(s) that is/are associated with the feature:"
   ]
  },
  {
   "cell_type": "code",
   "execution_count": 348,
   "metadata": {},
   "outputs": [
    {
     "name": "stdout",
     "output_type": "stream",
     "text": [
      "Donor\n",
      "SingleAtomDonor\n",
      "(0,)\n",
      "Aromatic\n",
      "(2, 3, 4, 5, 6, 7)\n"
     ]
    }
   ],
   "source": [
    "print( feats[0].GetFamily() )\n",
    "print( feats[0].GetType() )\n",
    "print( feats[0].GetAtomIds() )\n",
    "print( feats[4].GetFamily() )\n",
    "print( feats[4].GetAtomIds() )"
   ]
  },
  {
   "cell_type": "markdown",
   "metadata": {},
   "source": [
    "If the molecule has coordinates, then the features will also have reasonable locations:"
   ]
  },
  {
   "cell_type": "code",
   "execution_count": 349,
   "metadata": {},
   "outputs": [
    {
     "name": "stdout",
     "output_type": "stream",
     "text": [
      "<rdkit.Geometry.rdGeometry.Point3D object at 0x7f28f4497880>\n",
      "[2.0705367611607857, -2.3356749604090465, 0.0]\n"
     ]
    }
   ],
   "source": [
    "from rdkit.Chem import AllChem\n",
    "AllChem.Compute2DCoords(m)\n",
    "print( feats[0].GetPos() )\n",
    "print( list(feats[0].GetPos()) )"
   ]
  },
  {
   "cell_type": "markdown",
   "metadata": {},
   "source": [
    "### 2D Pharmacophore Fingerprints"
   ]
  },
  {
   "cell_type": "markdown",
   "metadata": {},
   "source": [
    "Combining a set of chemical features with the 2D (topological) distances between them gives a 2D pharmacophore. When the distances are binned, unique integer ids can be assigned to each of these pharmacophores and they can be stored in a fingerprint. Details of the encoding are in the The RDKit Book.\n",
    "\n",
    "Generating pharmacophore fingerprints requires chemical features generated via the usual RDKit feature-typing mechanism:"
   ]
  },
  {
   "cell_type": "code",
   "execution_count": 350,
   "metadata": {},
   "outputs": [],
   "source": [
    "from rdkit import Chem\n",
    "from rdkit.Chem import ChemicalFeatures\n",
    "fdefName = 'data/MinimalFeatures.fdef'\n",
    "featFactory = ChemicalFeatures.BuildFeatureFactory(fdefName)"
   ]
  },
  {
   "cell_type": "markdown",
   "metadata": {},
   "source": [
    "The fingerprints themselves are calculated using a signature (fingerprint) factory, which keeps track of all the parameters required to generate the pharmacophore:"
   ]
  },
  {
   "cell_type": "code",
   "execution_count": 351,
   "metadata": {},
   "outputs": [
    {
     "name": "stdout",
     "output_type": "stream",
     "text": [
      "885\n"
     ]
    }
   ],
   "source": [
    "from rdkit.Chem.Pharm2D.SigFactory import SigFactory\n",
    "sigFactory = SigFactory(featFactory,minPointCount=2,maxPointCount=3)\n",
    "sigFactory.SetBins([(0,2),(2,5),(5,8)])\n",
    "sigFactory.Init()\n",
    "print( sigFactory.GetSigSize() )"
   ]
  },
  {
   "cell_type": "markdown",
   "metadata": {},
   "source": [
    "The signature factory is now ready to be used to generate fingerprints, a task which is done using the `rdkit.Chem.Pharm2D.Generate` module:"
   ]
  },
  {
   "cell_type": "code",
   "execution_count": 352,
   "metadata": {},
   "outputs": [
    {
     "name": "stdout",
     "output_type": "stream",
     "text": [
      "<rdkit.DataStructs.cDataStructs.SparseBitVect object at 0x7f28eef8eb30>\n",
      "885\n",
      "57\n"
     ]
    }
   ],
   "source": [
    "from rdkit.Chem.Pharm2D import Generate\n",
    "mol = Chem.MolFromSmiles('OCC(=O)CCCN')\n",
    "fp = Generate.Gen2DFingerprint(mol,sigFactory)\n",
    "print( fp )\n",
    "print( len(fp) )\n",
    "print( fp.GetNumOnBits() )"
   ]
  },
  {
   "cell_type": "markdown",
   "metadata": {},
   "source": [
    "Details about the bits themselves, including the features that are involved and the binned distance matrix between the features, can be obtained from the signature factory:"
   ]
  },
  {
   "cell_type": "code",
   "execution_count": 353,
   "metadata": {},
   "outputs": [
    {
     "name": "stdout",
     "output_type": "stream",
     "text": [
      "[1, 2, 6, 7, 8]\n",
      "Acceptor Acceptor |0 1|1 0|\n",
      "Acceptor Acceptor |0 2|2 0|\n",
      "Acceptor Donor |0 2|2 0|\n",
      "[704, 706, 707, 708, 714]\n",
      "Donor Donor PosIonizable |0 1 2|1 0 1|2 1 0|\n",
      "Donor Donor PosIonizable |0 2 2|2 0 0|2 0 0|\n"
     ]
    }
   ],
   "source": [
    "print( list(fp.GetOnBits())[:5] )\n",
    "print( sigFactory.GetBitDescription(1) )\n",
    "print( sigFactory.GetBitDescription(2) )\n",
    "print( sigFactory.GetBitDescription(8) )\n",
    "print( list(fp.GetOnBits())[-5:] )\n",
    "print( sigFactory.GetBitDescription(707) )\n",
    "print( sigFactory.GetBitDescription(714) )"
   ]
  },
  {
   "cell_type": "markdown",
   "metadata": {},
   "source": [
    "For the sake of convenience (to save you from having to edit the fdef file every time) it is possible to disable particular feature types within the SigFactory:"
   ]
  },
  {
   "cell_type": "code",
   "execution_count": 354,
   "metadata": {},
   "outputs": [
    {
     "name": "stdout",
     "output_type": "stream",
     "text": [
      "510\n",
      "36\n"
     ]
    }
   ],
   "source": [
    "sigFactory.skipFeats=['PosIonizable']\n",
    "sigFactory.Init()\n",
    "print( sigFactory.GetSigSize() )\n",
    "fp2 = Generate.Gen2DFingerprint(mol,sigFactory)\n",
    "print( fp2.GetNumOnBits() )"
   ]
  },
  {
   "cell_type": "markdown",
   "metadata": {},
   "source": [
    "Another possible set of feature definitions for 2D pharmacophore fingerprints in the RDKit are those published by Gobbi and Poppinger. The module `rdkit.Chem.Pharm2D.Gobbi_Pharm2D` has a pre-configured signature factory for these fingerprint types. Here’s an example of using it:"
   ]
  },
  {
   "cell_type": "markdown",
   "metadata": {},
   "source": [
    "### Molecular Fragments"
   ]
  },
  {
   "cell_type": "markdown",
   "metadata": {},
   "source": [
    "The RDKit contains a collection of tools for fragmenting molecules and working with those fragments. Fragments are defined to be made up of a set of connected atoms that may have associated functional groups. This is more easily demonstrated than explained:"
   ]
  },
  {
   "cell_type": "code",
   "execution_count": 355,
   "metadata": {},
   "outputs": [
    {
     "name": "stdout",
     "output_type": "stream",
     "text": [
      "39\n",
      "3\n",
      "C<-O>C\n",
      "C=C<-C(=O)O>\n",
      "C<-C(=O)O>=CC<-O>\n"
     ]
    }
   ],
   "source": [
    "fName=os.path.join(RDConfig.RDDataDir,'FunctionalGroups.txt')\n",
    "from rdkit.Chem import FragmentCatalog\n",
    "fparams = FragmentCatalog.FragCatParams(1,6,fName)\n",
    "print( fparams.GetNumFuncGroups() )\n",
    "fcat=FragmentCatalog.FragCatalog(fparams)\n",
    "fcgen=FragmentCatalog.FragCatGenerator()\n",
    "m = Chem.MolFromSmiles('OCC=CC(=O)O')\n",
    "print( fcgen.AddFragsFromMol(m,fcat) )\n",
    "print( fcat.GetEntryDescription(0) )\n",
    "print( fcat.GetEntryDescription(1) )\n",
    "print( fcat.GetEntryDescription(2) )"
   ]
  },
  {
   "cell_type": "markdown",
   "metadata": {},
   "source": [
    "The fragments are stored as entries in a `rdkit.Chem.rdfragcatalog.FragCatalog`. Notice that the entry descriptions include pieces in angular brackets (e.g. between ‘<’ and ‘>’). These describe the functional groups attached to the fragment. For example, in the above example, the catalog entry 0 corresponds to an ethyl fragment with an alcohol attached to one of the carbons and entry 1 is an ethylene with a carboxylic acid on one carbon. Detailed information about the functional groups can be obtained by asking the fragment for the ids of the functional groups it contains and then looking those ids up in the `rdkit.Chem.rdfragcatalog.FragCatParams` object:"
   ]
  },
  {
   "cell_type": "code",
   "execution_count": 356,
   "metadata": {},
   "outputs": [
    {
     "name": "stdout",
     "output_type": "stream",
     "text": [
      "[34, 1]\n",
      "<rdkit.Chem.rdchem.Mol object at 0x7f28eef84df0>\n",
      "*-C(=O)[O&D1]\n",
      "*-[O&D1]\n",
      "-C(=O)O\n",
      "-O\n"
     ]
    }
   ],
   "source": [
    "print( list(fcat.GetEntryFuncGroupIds(2)) )\n",
    "print( fparams.GetFuncGroup(1) )\n",
    "print( Chem.MolToSmarts(fparams.GetFuncGroup(1)) )\n",
    "print( Chem.MolToSmarts(fparams.GetFuncGroup(34)) )\n",
    "print( fparams.GetFuncGroup(1).GetProp('_Name') )\n",
    "print( fparams.GetFuncGroup(34).GetProp('_Name') )"
   ]
  },
  {
   "cell_type": "markdown",
   "metadata": {},
   "source": [
    "The catalog is hierarchical: smaller fragments are combined to form larger ones. From a small fragment, one can find the larger fragments to which it contributes using the rdkit.Chem.rdfragcatalog.FragCatalog.GetEntryDownIds() method:"
   ]
  },
  {
   "cell_type": "code",
   "execution_count": 357,
   "metadata": {},
   "outputs": [
    {
     "name": "stdout",
     "output_type": "stream",
     "text": [
      "15\n",
      "C<-O>C\n",
      "CN<-cPropyl>\n",
      "[3, 4]\n",
      "C<-O>CC\n",
      "C<-O>CN<-cPropyl>\n"
     ]
    }
   ],
   "source": [
    "fcat=FragmentCatalog.FragCatalog(fparams)\n",
    "m = Chem.MolFromSmiles('OCC(NC1CC1)CCC')\n",
    "print( fcgen.AddFragsFromMol(m,fcat) )\n",
    "print( fcat.GetEntryDescription(0) )\n",
    "print( fcat.GetEntryDescription(1) )\n",
    "print( list(fcat.GetEntryDownIds(0)) )\n",
    "print( fcat.GetEntryDescription(3) )\n",
    "print( fcat.GetEntryDescription(4) )"
   ]
  },
  {
   "cell_type": "markdown",
   "metadata": {},
   "source": [
    "The fragments from multiple molecules can be added to a catalog:"
   ]
  },
  {
   "cell_type": "code",
   "execution_count": 358,
   "metadata": {},
   "outputs": [
    {
     "name": "stdout",
     "output_type": "stream",
     "text": [
      "1169\n",
      "Cc\n",
      "cc-nc(C)n\n"
     ]
    }
   ],
   "source": [
    "with Chem.SmilesMolSupplier('data/bzr.smi') as suppl:\n",
    "    ms = [x for x in suppl]\n",
    "fcat=FragmentCatalog.FragCatalog(fparams)\n",
    "for m in ms: nAdded=fcgen.AddFragsFromMol(m,fcat)\n",
    "print( fcat.GetNumEntries() )\n",
    "print( fcat.GetEntryDescription(0) )\n",
    "print( fcat.GetEntryDescription(100) )"
   ]
  },
  {
   "cell_type": "markdown",
   "metadata": {},
   "source": [
    "The fragments in a catalog are unique, so adding a molecule a second time doesn’t add any new entries:"
   ]
  },
  {
   "cell_type": "code",
   "execution_count": 359,
   "metadata": {},
   "outputs": [
    {
     "name": "stdout",
     "output_type": "stream",
     "text": [
      "0\n",
      "1169\n"
     ]
    }
   ],
   "source": [
    "print( fcgen.AddFragsFromMol(ms[0],fcat) )\n",
    "print( fcat.GetNumEntries() )"
   ]
  },
  {
   "cell_type": "markdown",
   "metadata": {},
   "source": [
    "Once a rdkit.Chem.rdfragcatalog.FragCatalog has been generated, it can be used to fingerprint molecules:"
   ]
  },
  {
   "cell_type": "code",
   "execution_count": 360,
   "metadata": {},
   "outputs": [
    {
     "name": "stdout",
     "output_type": "stream",
     "text": [
      "<rdkit.DataStructs.cDataStructs.ExplicitBitVect object at 0x7f28eefe7170>\n",
      "189\n"
     ]
    }
   ],
   "source": [
    "fpgen = FragmentCatalog.FragFPGenerator()\n",
    "fp = fpgen.GetFPForMol(ms[8],fcat)\n",
    "print( fp )\n",
    "\n",
    "print( fp.GetNumOnBits() )"
   ]
  },
  {
   "cell_type": "markdown",
   "metadata": {},
   "source": [
    "The rest of the machinery associated with fingerprints can now be applied to these fragment fingerprints. For example, it’s easy to find the fragments that two molecules have in common by taking the intersection of their fingerprints:"
   ]
  },
  {
   "cell_type": "code",
   "execution_count": 361,
   "metadata": {},
   "outputs": [
    {
     "name": "stdout",
     "output_type": "stream",
     "text": [
      "ccc(cc)NC<=O>\n",
      "c<-X>ccc(N)cc\n"
     ]
    }
   ],
   "source": [
    "fp2 = fpgen.GetFPForMol(ms[7],fcat)\n",
    "andfp = fp&fp2\n",
    "obl = list(andfp.GetOnBits())\n",
    "print( fcat.GetEntryDescription(obl[-1]) )\n",
    "print( fcat.GetEntryDescription(obl[-5]) )"
   ]
  },
  {
   "cell_type": "markdown",
   "metadata": {},
   "source": [
    "or we can find the fragments that distinguish one molecule from another:"
   ]
  },
  {
   "cell_type": "code",
   "execution_count": 362,
   "metadata": {},
   "outputs": [
    {
     "name": "stdout",
     "output_type": "stream",
     "text": [
      "cccc(N)cc\n"
     ]
    }
   ],
   "source": [
    " combinedFp=fp&(fp^fp2) # can be more efficient than fp&(!fp2)\n",
    "obl = list(combinedFp.GetOnBits())\n",
    "print( fcat.GetEntryDescription(obl[-1]) )"
   ]
  },
  {
   "cell_type": "markdown",
   "metadata": {},
   "source": [
    "Or we can use the bit ranking functionality from the rdkit.ML.InfoTheory.rdInfoTheory.InfoBitRanker class to identify fragments that distinguish actives from inactives:"
   ]
  },
  {
   "cell_type": "code",
   "execution_count": 363,
   "metadata": {},
   "outputs": [
    {
     "name": "stdout",
     "output_type": "stream",
     "text": [
      "702 0.081 20 17\n",
      "328 0.073 23 25\n",
      "341 0.073 30 43\n",
      "173 0.073 30 43\n",
      "1034 0.069 5 53\n"
     ]
    }
   ],
   "source": [
    "with Chem.SDMolSupplier('data/bzr.sdf') as suppl:\n",
    "    sdms = [x for x in suppl]\n",
    "fps = [fpgen.GetFPForMol(x,fcat) for x in sdms]\n",
    "from rdkit.ML.InfoTheory import InfoBitRanker\n",
    "ranker = InfoBitRanker(len(fps[0]),2)\n",
    "acts = [x.GetDoubleProp('ACTIVITY') for x in sdms]\n",
    "for i,fp in enumerate(fps):\n",
    "    act = int(acts[i]>7)\n",
    "    ranker.AccumulateVotes(fp,act)\n",
    "\n",
    "top5 = ranker.GetTopN(5)\n",
    "for id,gain,n0,n1 in top5:\n",
    "    print(int(id),'%.3f'%gain,int(n0),int(n1))"
   ]
  },
  {
   "cell_type": "markdown",
   "metadata": {},
   "source": [
    "The columns above are: bitId, infoGain, nInactive, nActive. Note that this approach isn’t particularly effective for this artificial example."
   ]
  },
  {
   "cell_type": "markdown",
   "metadata": {},
   "source": [
    "### R-Group Decomposition"
   ]
  },
  {
   "cell_type": "markdown",
   "metadata": {},
   "source": [
    "Let’s look at how it works. We’ll read in a group of molecules (these were taken ChEMBL), define a core with labelled R groups, and then use the simplest call to do R-group decomposition: rdkit.Chem.rdRGroupDecomposition.RGroupDecompose()"
   ]
  },
  {
   "cell_type": "code",
   "execution_count": 364,
   "metadata": {},
   "outputs": [
    {
     "name": "stdout",
     "output_type": "stream",
     "text": [
      "40\n",
      "[]\n",
      "40\n",
      "[{'Core': 'n1oc([*:2])nc1[*:1]', 'R1': 'O=C(O)CCCC1NCCOc2c1cccc2[*:1]', 'R2': 'CC(C)Oc1ccc([*:2])cc1Cl'}, {'Core': 'n1oc([*:2])nc1[*:1]', 'R1': 'O=C(O)CCC1NCCOc2c1cccc2[*:1]', 'R2': 'CC(C)Oc1ccc([*:2])cc1Cl'}]\n"
     ]
    }
   ],
   "source": [
    "from rdkit import Chem\n",
    "from rdkit.Chem import rdRGroupDecomposition as rdRGD\n",
    "with Chem.SmilesMolSupplier('data/s1p_chembldoc89753.txt',delimiter=\",\",\n",
    "                             smilesColumn=9,nameColumn=10) as suppl:\n",
    "    ms = [x for x in suppl if x is not None]\n",
    "print( len(ms) )\n",
    "core = Chem.MolFromSmarts('[*:1]c1nc([*:2])on1')\n",
    "res,unmatched = rdRGD.RGroupDecompose([core],ms,asSmiles=True)\n",
    "print( unmatched )\n",
    "print( len(res) )\n",
    "print( res[:2] )"
   ]
  },
  {
   "cell_type": "markdown",
   "metadata": {},
   "source": [
    "The unmatched return value has the indices of the molecules that did not match a core; in this case there are none. The other result is a list with one dict for each molecule; each dict contains the core that matched the molecule (in this case there was only one) and the molecule’s R groups.\n",
    "\n",
    "As an aside, if you are a Pandas user, it’s very easy to get the R-group decomposition results into a DataFrame:"
   ]
  },
  {
   "cell_type": "code",
   "execution_count": 365,
   "metadata": {},
   "outputs": [
    {
     "name": "stdout",
     "output_type": "stream",
     "text": [
      "                  Core                              R1  \\\n",
      "0  n1oc([*:2])nc1[*:1]   O=C(O)CCCC1NCCOc2c1cccc2[*:1]   \n",
      "1  n1oc([*:2])nc1[*:1]    O=C(O)CCC1NCCOc2c1cccc2[*:1]   \n",
      "2  n1oc([*:2])nc1[*:1]  O=C(O)CCC1COc2ccc([*:1])cc2CN1   \n",
      "3  n1oc([*:2])nc1[*:1]   O=C(O)CCCC1NCCOc2c1cccc2[*:1]   \n",
      "4  n1oc([*:2])nc1[*:1]   O=C(O)CCCC1NCCOc2c1cccc2[*:1]   \n",
      "\n",
      "                        R2  \n",
      "0  CC(C)Oc1ccc([*:2])cc1Cl  \n",
      "1  CC(C)Oc1ccc([*:2])cc1Cl  \n",
      "2  CC(C)Oc1ccc([*:2])cc1Cl  \n",
      "3  CC(C)Oc1ncc([*:2])cc1Cl  \n",
      "4  CC(C)Oc1ncc([*:2])cc1Cl  \n"
     ]
    }
   ],
   "source": [
    "import pandas as pd\n",
    "res,unmatched = rdRGD.RGroupDecompose([core],ms,asSmiles=True,asRows=False)\n",
    "df= pd.DataFrame(res)\n",
    "print( df.head() )"
   ]
  },
  {
   "cell_type": "markdown",
   "metadata": {},
   "source": [
    "It’s not necessary to label the attachment points on the core, if you leave them out the code will automatically assign labels:"
   ]
  },
  {
   "cell_type": "code",
   "execution_count": 366,
   "metadata": {},
   "outputs": [
    {
     "name": "stdout",
     "output_type": "stream",
     "text": [
      "[{'Core': 'n1oc([*:1])nc1[*:2]', 'R1': 'CC(C)Oc1ccc([*:1])cc1Cl', 'R2': 'O=C(O)CCCC1NCCOc2c1cccc2[*:2]'}, {'Core': 'n1oc([*:1])nc1[*:2]', 'R1': 'CC(C)Oc1ccc([*:1])cc1Cl', 'R2': 'O=C(O)CCC1NCCOc2c1cccc2[*:2]'}]\n"
     ]
    }
   ],
   "source": [
    "core2 = Chem.MolFromSmarts('c1ncon1')\n",
    "res,unmatched = rdRGD.RGroupDecompose([core2],ms,asSmiles=True)\n",
    "print( res[:2] )"
   ]
  },
  {
   "cell_type": "markdown",
   "metadata": {},
   "source": [
    "R-group decomposition is actually pretty complex, so there’s a lot more there. Hopefully this is enough to get you started."
   ]
  },
  {
   "cell_type": "markdown",
   "metadata": {
    "jp-MarkdownHeadingCollapsed": true,
    "tags": []
   },
   "source": [
    "## Non-Chemical Functionality"
   ]
  },
  {
   "cell_type": "markdown",
   "metadata": {},
   "source": [
    "### Bit vectors"
   ]
  },
  {
   "cell_type": "markdown",
   "metadata": {},
   "source": [
    "Bit vectors are containers for efficiently storing a set number of binary values, e.g. for fingerprints. The RDKit includes two types of fingerprints differing in how they store the values internally; the two types are easily interconverted but are best used for different purpose:\n",
    "\n",
    "* SparseBitVects store only the list of bits set in the vector; they are well suited for storing very large, very sparsely occupied vectors like pharmacophore fingerprints. Some operations, such as retrieving the list of on bits, are quite fast. Others, such as negating the vector, are very, very slow.\n",
    "\n",
    "* ExplicitBitVects keep track of both on and off bits. They are generally faster than SparseBitVects, but require more memory to store.\n"
   ]
  },
  {
   "cell_type": "markdown",
   "metadata": {},
   "source": [
    "### Discrete value vectors"
   ]
  },
  {
   "cell_type": "markdown",
   "metadata": {},
   "source": [
    "### 3D grids"
   ]
  },
  {
   "cell_type": "markdown",
   "metadata": {},
   "source": [
    "### Points"
   ]
  },
  {
   "cell_type": "markdown",
   "metadata": {
    "jp-MarkdownHeadingCollapsed": true,
    "tags": []
   },
   "source": [
    "## Getting Help"
   ]
  },
  {
   "cell_type": "markdown",
   "metadata": {},
   "source": [
    "There is a reasonable amount of documentation available within from the RDKit’s docstrings. These are accessible using Python’s help command:"
   ]
  },
  {
   "cell_type": "code",
   "execution_count": 367,
   "metadata": {},
   "outputs": [
    {
     "name": "stdout",
     "output_type": "stream",
     "text": [
      "7\n",
      "Help on method GetNumAtoms:\n",
      "\n",
      "GetNumAtoms(...) method of rdkit.Chem.rdchem.Mol instance\n",
      "    GetNumAtoms( (Mol)arg1 [, (int)onlyHeavy=-1 [, (bool)onlyExplicit=True]]) -> int :\n",
      "        Returns the number of atoms in the molecule.\n",
      "        \n",
      "          ARGUMENTS:\n",
      "            - onlyExplicit: (optional) include only explicit atoms (atoms in the molecular graph)\n",
      "                            defaults to 1.\n",
      "          NOTE: the onlyHeavy argument is deprecated\n",
      "        \n",
      "    \n",
      "        C++ signature :\n",
      "            int GetNumAtoms(RDKit::ROMol [,int=-1 [,bool=True]])\n",
      "\n",
      "None\n",
      "15\n"
     ]
    }
   ],
   "source": [
    "m = Chem.MolFromSmiles('Cc1ccccc1')\n",
    "print( m.GetNumAtoms() )\n",
    "print( help(m.GetNumAtoms) )\n",
    "print( m.GetNumAtoms(onlyExplicit=False) )"
   ]
  },
  {
   "cell_type": "markdown",
   "metadata": {},
   "source": [
    "When working in an environment that does command completion or tooltips, one can see the available methods quite easily. Here’s a sample screenshot from within the Jupyter notebook:"
   ]
  },
  {
   "cell_type": "markdown",
   "metadata": {
    "jp-MarkdownHeadingCollapsed": true,
    "tags": []
   },
   "source": [
    "## Advanced Topics/Warnings"
   ]
  },
  {
   "cell_type": "markdown",
   "metadata": {},
   "source": [
    "### Editing Molecules"
   ]
  },
  {
   "cell_type": "markdown",
   "metadata": {},
   "source": [
    "Some of the functionality provided allows molecules to be edited “in place”:"
   ]
  },
  {
   "cell_type": "code",
   "execution_count": 368,
   "metadata": {},
   "outputs": [
    {
     "name": "stdout",
     "output_type": "stream",
     "text": [
      "SANITIZE_NONE\n",
      "c1ccncc1\n"
     ]
    }
   ],
   "source": [
    "m = Chem.MolFromSmiles('c1ccccc1')\n",
    "m.GetAtomWithIdx(0).SetAtomicNum(7)\n",
    "print( Chem.SanitizeMol(m) )\n",
    "\n",
    "print( Chem.MolToSmiles(m) )"
   ]
  },
  {
   "cell_type": "markdown",
   "metadata": {},
   "source": [
    "Do not forget the sanitization step, without it one can end up with results that look ok (so long as you don’t think):"
   ]
  },
  {
   "cell_type": "code",
   "execution_count": 369,
   "metadata": {},
   "outputs": [
    {
     "name": "stdout",
     "output_type": "stream",
     "text": [
      "c1ccocc1\n"
     ]
    }
   ],
   "source": [
    "m = Chem.MolFromSmiles('c1ccccc1')\n",
    "m.GetAtomWithIdx(0).SetAtomicNum(8)\n",
    "print( Chem.MolToSmiles(m) )"
   ]
  },
  {
   "cell_type": "markdown",
   "metadata": {},
   "source": [
    "but that are, of course, complete nonsense, as sanitization will indicate:"
   ]
  },
  {
   "cell_type": "code",
   "execution_count": 370,
   "metadata": {},
   "outputs": [
    {
     "name": "stdout",
     "output_type": "stream",
     "text": [
      "Can't kekulize mol.  Unkekulized atoms: 1 2 3 4 5\n"
     ]
    },
    {
     "name": "stderr",
     "output_type": "stream",
     "text": [
      "RDKit ERROR: [15:04:20] Can't kekulize mol.  Unkekulized atoms: 1 2 3 4 5\n",
      "[15:04:20] Can't kekulize mol.  Unkekulized atoms: 1 2 3 4 5\n"
     ]
    }
   ],
   "source": [
    "try:\n",
    "    Chem.SanitizeMol(m)\n",
    "except:\n",
    "    print(\"Can't kekulize mol.  Unkekulized atoms: 1 2 3 4 5\")"
   ]
  },
  {
   "cell_type": "markdown",
   "metadata": {},
   "source": [
    "More complex transformations can be carried out using the rdkit.Chem.rdchem.RWMol class:"
   ]
  },
  {
   "cell_type": "code",
   "execution_count": 371,
   "metadata": {},
   "outputs": [
    {
     "name": "stdout",
     "output_type": "stream",
     "text": [
      "7\n",
      "8\n",
      "7\n",
      "8\n",
      "9\n",
      "8\n"
     ]
    }
   ],
   "source": [
    "m = Chem.MolFromSmiles('CC(=O)C=CC=C')\n",
    "mw = Chem.RWMol(m)\n",
    "mw.ReplaceAtom(4,Chem.Atom(7))\n",
    "print( mw.AddAtom(Chem.Atom(6)) )\n",
    "print( mw.AddAtom(Chem.Atom(6)) )\n",
    "print( mw.AddBond(6,7,Chem.BondType.SINGLE) )\n",
    "print( mw.AddBond(7,8,Chem.BondType.DOUBLE) )\n",
    "print( mw.AddBond(8,3,Chem.BondType.SINGLE) )\n",
    "mw.RemoveAtom(0)\n",
    "print( mw.GetNumAtoms() )"
   ]
  },
  {
   "cell_type": "markdown",
   "metadata": {},
   "source": [
    "The RWMol can be used just like an ROMol:\n"
   ]
  },
  {
   "cell_type": "code",
   "execution_count": 372,
   "metadata": {},
   "outputs": [
    {
     "name": "stdout",
     "output_type": "stream",
     "text": [
      "O=CC1=NC=CC=C1\n",
      "SANITIZE_NONE\n",
      "O=Cc1ccccn1\n"
     ]
    }
   ],
   "source": [
    "print( Chem.MolToSmiles(mw) )\n",
    "print( Chem.SanitizeMol(mw) )\n",
    "print( Chem.MolToSmiles(mw) )"
   ]
  },
  {
   "cell_type": "markdown",
   "metadata": {},
   "source": [
    "\n",
    "\n",
    "The RDKit also has functionality enabling batch edits of molecules which provides a more efficient way to remove multiple atoms or bonds at once."
   ]
  },
  {
   "cell_type": "code",
   "execution_count": 373,
   "metadata": {},
   "outputs": [],
   "source": [
    "m = Chem.MolFromSmiles('CC(=O)C=CC=C')\n",
    "mw = Chem.RWMol(m)\n",
    "mw.BeginBatchEdit()\n",
    "mw.RemoveAtom(3)\n",
    "mw.RemoveBond(1,2)  #<- these are the begin and end atoms of the bond"
   ]
  },
  {
   "cell_type": "markdown",
   "metadata": {},
   "source": [
    "None of the changes actually happen until we “commit” them: .. doctest:: >>> Chem.MolToSmiles(mw) ‘C=CC=CC(C)=O’ >>> mw.CommitBatchEdit() >>> Chem.MolToSmiles(mw) ‘C=CC.CC.O’\n",
    "\n",
    "You can make this more concise using a context manager, which takes care of the commit for you: >>> with Chem.RWMol(m) as mw: … mw.RemoveAtom(3) … mw.RemoveBond(1,2) … >>> Chem.MolToSmiles(mw) ‘C=CC.CC.O’\n",
    "\n",
    "It is even easier to generate nonsense using the RWMol than it is with standard molecules. If you need chemically reasonable results, be certain to sanitize the results."
   ]
  },
  {
   "cell_type": "markdown",
   "metadata": {
    "jp-MarkdownHeadingCollapsed": true,
    "tags": []
   },
   "source": [
    "## Miscellaneous Tips and Hints "
   ]
  },
  {
   "cell_type": "markdown",
   "metadata": {},
   "source": [
    "### Chem vs AllChem"
   ]
  },
  {
   "cell_type": "markdown",
   "metadata": {},
   "source": [
    "The majority of “basic” chemical functionality (e.g. reading/writing molecules, substructure searching, molecular cleanup, etc.) is in the rdkit.Chem module. More advanced, or less frequently used, functionality is in rdkit.Chem.AllChem. The distinction has been made to speed startup and lower import times; there’s no sense in loading the 2D->3D library and force field implementation if one is only interested in reading and writing a couple of molecules. If you find the Chem/AllChem thing annoying or confusing, you can use python’s “import … as …” syntax to remove the irritation:"
   ]
  },
  {
   "cell_type": "code",
   "execution_count": 374,
   "metadata": {},
   "outputs": [],
   "source": [
    "from rdkit.Chem import AllChem as Chem\n",
    "m = Chem.MolFromSmiles('CCC')"
   ]
  },
  {
   "cell_type": "markdown",
   "metadata": {},
   "source": [
    "### The SSSR Problem"
   ]
  },
  {
   "cell_type": "markdown",
   "metadata": {},
   "source": [
    "As others have ranted about with more energy and eloquence than I intend to, the definition of a molecule’s smallest set of smallest rings is not unique. In some high symmetry molecules, a “true” SSSR will give results that are unappealing. For example, the SSSR for cubane only contains 5 rings, even though there are “obviously” 6. This problem can be fixed by implementing a small (instead of smallest) set of smallest rings algorithm that returns symmetric results. This is the approach that we took with the RDKit.\n",
    "\n",
    "Because it is sometimes useful to be able to count how many SSSR rings are present in the molecule, there is a rdkit.Chem.rdmolops.GetSSSR() function, but this only returns the SSSR count, not the potentially non-unique set of rings."
   ]
  }
 ],
 "metadata": {
  "kernelspec": {
   "display_name": "Python 3 (ipykernel)",
   "language": "python",
   "name": "python3"
  },
  "language_info": {
   "codemirror_mode": {
    "name": "ipython",
    "version": 3
   },
   "file_extension": ".py",
   "mimetype": "text/x-python",
   "name": "python",
   "nbconvert_exporter": "python",
   "pygments_lexer": "ipython3",
   "version": "3.7.13"
  },
  "vscode": {
   "interpreter": {
    "hash": "f5ea3a59fc06fb9931f3479199ca2ee7bce78365b6916716a063fd31f0322aa4"
   }
  }
 },
 "nbformat": 4,
 "nbformat_minor": 4
}
